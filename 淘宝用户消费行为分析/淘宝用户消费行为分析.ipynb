{
 "cells": [
  {
   "cell_type": "markdown",
   "metadata": {
    "toc": true
   },
   "source": [
    "<h1>Table of Contents<span class=\"tocSkip\"></span></h1>\n",
    "<div class=\"toc\"><ul class=\"toc-item\"><li><span><a href=\"#项目背景\" data-toc-modified-id=\"项目背景-1\"><span class=\"toc-item-num\">1&nbsp;&nbsp;</span>项目背景</a></span></li><li><span><a href=\"#理解数据\" data-toc-modified-id=\"理解数据-2\"><span class=\"toc-item-num\">2&nbsp;&nbsp;</span>理解数据</a></span></li><li><span><a href=\"#导入分析库\" data-toc-modified-id=\"导入分析库-3\"><span class=\"toc-item-num\">3&nbsp;&nbsp;</span>导入分析库</a></span></li><li><span><a href=\"#导入数据\" data-toc-modified-id=\"导入数据-4\"><span class=\"toc-item-num\">4&nbsp;&nbsp;</span>导入数据</a></span></li><li><span><a href=\"#数据清洗\" data-toc-modified-id=\"数据清洗-5\"><span class=\"toc-item-num\">5&nbsp;&nbsp;</span>数据清洗</a></span></li><li><span><a href=\"#数据分析\" data-toc-modified-id=\"数据分析-6\"><span class=\"toc-item-num\">6&nbsp;&nbsp;</span>数据分析</a></span><ul class=\"toc-item\"><li><span><a href=\"#pv,uv分析\" data-toc-modified-id=\"pv,uv分析-6.1\"><span class=\"toc-item-num\">6.1&nbsp;&nbsp;</span>pv,uv分析</a></span></li><li><span><a href=\"#ARPU，ARPPU分析\" data-toc-modified-id=\"ARPU，ARPPU分析-6.2\"><span class=\"toc-item-num\">6.2&nbsp;&nbsp;</span>ARPU，ARPPU分析</a></span></li><li><span><a href=\"#人均消费次数分析\" data-toc-modified-id=\"人均消费次数分析-6.3\"><span class=\"toc-item-num\">6.3&nbsp;&nbsp;</span>人均消费次数分析</a></span></li><li><span><a href=\"#付费率分析\" data-toc-modified-id=\"付费率分析-6.4\"><span class=\"toc-item-num\">6.4&nbsp;&nbsp;</span>付费率分析</a></span></li><li><span><a href=\"#复购率分析\" data-toc-modified-id=\"复购率分析-6.5\"><span class=\"toc-item-num\">6.5&nbsp;&nbsp;</span>复购率分析</a></span></li><li><span><a href=\"#漏斗流失分析\" data-toc-modified-id=\"漏斗流失分析-6.6\"><span class=\"toc-item-num\">6.6&nbsp;&nbsp;</span>漏斗流失分析</a></span></li></ul></li><li><span><a href=\"#分析结论\" data-toc-modified-id=\"分析结论-7\"><span class=\"toc-item-num\">7&nbsp;&nbsp;</span>分析结论</a></span></li></ul></div>"
   ]
  },
  {
   "cell_type": "markdown",
   "metadata": {},
   "source": [
    "## 项目背景\n",
    "* 网购已经成为人们生活不可或缺的一部分，本次项目基于淘宝app平台数据通过相关指标对用户行为进行分析，从而探索用户相关行为模式。\n",
    "\n",
    "\n",
    "## 理解数据\n",
    "* 字段如下:\n",
    "* user_id: 用户身份\n",
    "* item_id:商品ID\n",
    "* behavior_type：用户行为类型(包含点击、收藏、加购物车、支付四种行为，分别用数字1、2、3、4表示)\n",
    "* user_geohash：地理位置\n",
    "* item_category:品类旧D(商品所属的品类)\n",
    "* time:用户行为发生的时间"
   ]
  },
  {
   "cell_type": "markdown",
   "metadata": {},
   "source": [
    "## 导入分析库\n"
   ]
  },
  {
   "cell_type": "code",
   "execution_count": 1,
   "metadata": {
    "ExecuteTime": {
     "end_time": "2020-09-30T08:24:29.193313Z",
     "start_time": "2020-09-30T08:24:05.615932Z"
    }
   },
   "outputs": [],
   "source": [
    "import os \n",
    "import pandas as pd \n",
    "import matplotlib.pyplot as plt\n",
    "import seaborn as sns\n",
    "import warnings\n",
    "sns.set(style='darkgrid')\n",
    "warnings.filterwarnings('ignore')"
   ]
  },
  {
   "cell_type": "code",
   "execution_count": 2,
   "metadata": {
    "ExecuteTime": {
     "end_time": "2020-09-30T08:24:29.205728Z",
     "start_time": "2020-09-30T08:24:29.193313Z"
    }
   },
   "outputs": [],
   "source": [
    "#设置图形显示中文避免乱码\n",
    "plt.rcParams['font.sans-serif'] = 'SimHei'\n",
    "plt.rcParams['axes.unicode_minus'] = False"
   ]
  },
  {
   "cell_type": "markdown",
   "metadata": {},
   "source": [
    "## 导入数据"
   ]
  },
  {
   "cell_type": "code",
   "execution_count": 3,
   "metadata": {
    "ExecuteTime": {
     "end_time": "2020-09-30T08:25:48.123024Z",
     "start_time": "2020-09-30T08:24:29.212732Z"
    }
   },
   "outputs": [],
   "source": [
    "user_data = pd.read_csv('tianchi_mobile_recommend_train_user.csv',encoding = 'utf8',dtype=str)#数据字段无实际加减意义故都读成str格式"
   ]
  },
  {
   "cell_type": "code",
   "execution_count": 4,
   "metadata": {
    "ExecuteTime": {
     "end_time": "2020-09-30T08:26:08.758567Z",
     "start_time": "2020-09-30T08:25:55.990993Z"
    }
   },
   "outputs": [],
   "source": [
    "user_data = user_data.sample(frac = 0.2,replace = False)#由于电脑配置原因抽取数据的20%进行分析"
   ]
  },
  {
   "cell_type": "code",
   "execution_count": 5,
   "metadata": {
    "ExecuteTime": {
     "end_time": "2020-09-30T08:26:13.313349Z",
     "start_time": "2020-09-30T08:26:08.758567Z"
    }
   },
   "outputs": [
    {
     "data": {
      "text/html": [
       "<div>\n",
       "<style scoped>\n",
       "    .dataframe tbody tr th:only-of-type {\n",
       "        vertical-align: middle;\n",
       "    }\n",
       "\n",
       "    .dataframe tbody tr th {\n",
       "        vertical-align: top;\n",
       "    }\n",
       "\n",
       "    .dataframe thead th {\n",
       "        text-align: right;\n",
       "    }\n",
       "</style>\n",
       "<table border=\"1\" class=\"dataframe\">\n",
       "  <thead>\n",
       "    <tr style=\"text-align: right;\">\n",
       "      <th></th>\n",
       "      <th>user_id</th>\n",
       "      <th>item_id</th>\n",
       "      <th>behavior_type</th>\n",
       "      <th>user_geohash</th>\n",
       "      <th>item_category</th>\n",
       "      <th>time</th>\n",
       "    </tr>\n",
       "  </thead>\n",
       "  <tbody>\n",
       "    <tr>\n",
       "      <th>3588708</th>\n",
       "      <td>60575815</td>\n",
       "      <td>131921232</td>\n",
       "      <td>1</td>\n",
       "      <td>NaN</td>\n",
       "      <td>6512</td>\n",
       "      <td>2014-12-11 10</td>\n",
       "    </tr>\n",
       "    <tr>\n",
       "      <th>1931135</th>\n",
       "      <td>11361547</td>\n",
       "      <td>242111474</td>\n",
       "      <td>1</td>\n",
       "      <td>94j70nw</td>\n",
       "      <td>5027</td>\n",
       "      <td>2014-12-01 20</td>\n",
       "    </tr>\n",
       "    <tr>\n",
       "      <th>6173016</th>\n",
       "      <td>36953591</td>\n",
       "      <td>362402083</td>\n",
       "      <td>1</td>\n",
       "      <td>94jcjpf</td>\n",
       "      <td>10049</td>\n",
       "      <td>2014-12-13 22</td>\n",
       "    </tr>\n",
       "    <tr>\n",
       "      <th>3652328</th>\n",
       "      <td>63489689</td>\n",
       "      <td>171654122</td>\n",
       "      <td>2</td>\n",
       "      <td>NaN</td>\n",
       "      <td>1121</td>\n",
       "      <td>2014-11-27 22</td>\n",
       "    </tr>\n",
       "    <tr>\n",
       "      <th>7688390</th>\n",
       "      <td>61948623</td>\n",
       "      <td>92266285</td>\n",
       "      <td>1</td>\n",
       "      <td>mtobc56</td>\n",
       "      <td>7350</td>\n",
       "      <td>2014-11-20 19</td>\n",
       "    </tr>\n",
       "  </tbody>\n",
       "</table>\n",
       "</div>"
      ],
      "text/plain": [
       "          user_id    item_id behavior_type user_geohash item_category  \\\n",
       "3588708  60575815  131921232             1          NaN          6512   \n",
       "1931135  11361547  242111474             1      94j70nw          5027   \n",
       "6173016  36953591  362402083             1      94jcjpf         10049   \n",
       "3652328  63489689  171654122             2          NaN          1121   \n",
       "7688390  61948623   92266285             1      mtobc56          7350   \n",
       "\n",
       "                  time  \n",
       "3588708  2014-12-11 10  \n",
       "1931135  2014-12-01 20  \n",
       "6173016  2014-12-13 22  \n",
       "3652328  2014-11-27 22  \n",
       "7688390  2014-11-20 19  "
      ]
     },
     "execution_count": 5,
     "metadata": {},
     "output_type": "execute_result"
    }
   ],
   "source": [
    "user_data.head()"
   ]
  },
  {
   "cell_type": "code",
   "execution_count": 6,
   "metadata": {
    "ExecuteTime": {
     "end_time": "2020-09-30T08:26:13.602946Z",
     "start_time": "2020-09-30T08:26:13.313349Z"
    }
   },
   "outputs": [
    {
     "name": "stdout",
     "output_type": "stream",
     "text": [
      "<class 'pandas.core.frame.DataFrame'>\n",
      "Int64Index: 2451381 entries, 3588708 to 11381945\n",
      "Data columns (total 6 columns):\n",
      "user_id          object\n",
      "item_id          object\n",
      "behavior_type    object\n",
      "user_geohash     object\n",
      "item_category    object\n",
      "time             object\n",
      "dtypes: object(6)\n",
      "memory usage: 130.9+ MB\n"
     ]
    }
   ],
   "source": [
    "user_data.info()"
   ]
  },
  {
   "cell_type": "markdown",
   "metadata": {},
   "source": [
    "## 数据清洗"
   ]
  },
  {
   "cell_type": "code",
   "execution_count": 7,
   "metadata": {
    "ExecuteTime": {
     "end_time": "2020-09-30T08:27:06.420012Z",
     "start_time": "2020-09-30T08:26:13.611494Z"
    }
   },
   "outputs": [
    {
     "data": {
      "text/plain": [
       "user_id          0.000000\n",
       "item_id          0.000000\n",
       "behavior_type    0.000000\n",
       "user_geohash     0.680114\n",
       "item_category    0.000000\n",
       "time             0.000000\n",
       "dtype: float64"
      ]
     },
     "execution_count": 7,
     "metadata": {},
     "output_type": "execute_result"
    }
   ],
   "source": [
    "#统计缺失值缺失率\n",
    "user_data.apply(lambda x : (x.isnull().sum())/len(user_data),axis = 0)"
   ]
  },
  {
   "cell_type": "code",
   "execution_count": 8,
   "metadata": {
    "ExecuteTime": {
     "end_time": "2020-09-30T08:27:08.809560Z",
     "start_time": "2020-09-30T08:27:06.436020Z"
    }
   },
   "outputs": [
    {
     "data": {
      "text/plain": [
       "user_id                0\n",
       "item_id                0\n",
       "behavior_type          0\n",
       "user_geohash     1667218\n",
       "item_category          0\n",
       "time                   0\n",
       "dtype: int64"
      ]
     },
     "execution_count": 8,
     "metadata": {},
     "output_type": "execute_result"
    }
   ],
   "source": [
    "user_data.apply(lambda x : x.isnull().sum(),axis = 0)"
   ]
  },
  {
   "cell_type": "code",
   "execution_count": 9,
   "metadata": {
    "ExecuteTime": {
     "end_time": "2020-09-30T08:27:12.088128Z",
     "start_time": "2020-09-30T08:27:08.816565Z"
    }
   },
   "outputs": [],
   "source": [
    "user_data['date'] = user_data['time'].str[0:10]\n",
    "user_data['hour'] = user_data['time'].str[11:]"
   ]
  },
  {
   "cell_type": "code",
   "execution_count": 10,
   "metadata": {
    "ExecuteTime": {
     "end_time": "2020-09-30T08:27:14.507092Z",
     "start_time": "2020-09-30T08:27:12.088128Z"
    }
   },
   "outputs": [
    {
     "data": {
      "text/html": [
       "<div>\n",
       "<style scoped>\n",
       "    .dataframe tbody tr th:only-of-type {\n",
       "        vertical-align: middle;\n",
       "    }\n",
       "\n",
       "    .dataframe tbody tr th {\n",
       "        vertical-align: top;\n",
       "    }\n",
       "\n",
       "    .dataframe thead th {\n",
       "        text-align: right;\n",
       "    }\n",
       "</style>\n",
       "<table border=\"1\" class=\"dataframe\">\n",
       "  <thead>\n",
       "    <tr style=\"text-align: right;\">\n",
       "      <th></th>\n",
       "      <th>user_id</th>\n",
       "      <th>item_id</th>\n",
       "      <th>behavior_type</th>\n",
       "      <th>user_geohash</th>\n",
       "      <th>item_category</th>\n",
       "      <th>time</th>\n",
       "      <th>date</th>\n",
       "      <th>hour</th>\n",
       "    </tr>\n",
       "  </thead>\n",
       "  <tbody>\n",
       "    <tr>\n",
       "      <th>3588708</th>\n",
       "      <td>60575815</td>\n",
       "      <td>131921232</td>\n",
       "      <td>1</td>\n",
       "      <td>NaN</td>\n",
       "      <td>6512</td>\n",
       "      <td>2014-12-11 10</td>\n",
       "      <td>2014-12-11</td>\n",
       "      <td>10</td>\n",
       "    </tr>\n",
       "    <tr>\n",
       "      <th>1931135</th>\n",
       "      <td>11361547</td>\n",
       "      <td>242111474</td>\n",
       "      <td>1</td>\n",
       "      <td>94j70nw</td>\n",
       "      <td>5027</td>\n",
       "      <td>2014-12-01 20</td>\n",
       "      <td>2014-12-01</td>\n",
       "      <td>20</td>\n",
       "    </tr>\n",
       "    <tr>\n",
       "      <th>6173016</th>\n",
       "      <td>36953591</td>\n",
       "      <td>362402083</td>\n",
       "      <td>1</td>\n",
       "      <td>94jcjpf</td>\n",
       "      <td>10049</td>\n",
       "      <td>2014-12-13 22</td>\n",
       "      <td>2014-12-13</td>\n",
       "      <td>22</td>\n",
       "    </tr>\n",
       "    <tr>\n",
       "      <th>3652328</th>\n",
       "      <td>63489689</td>\n",
       "      <td>171654122</td>\n",
       "      <td>2</td>\n",
       "      <td>NaN</td>\n",
       "      <td>1121</td>\n",
       "      <td>2014-11-27 22</td>\n",
       "      <td>2014-11-27</td>\n",
       "      <td>22</td>\n",
       "    </tr>\n",
       "    <tr>\n",
       "      <th>7688390</th>\n",
       "      <td>61948623</td>\n",
       "      <td>92266285</td>\n",
       "      <td>1</td>\n",
       "      <td>mtobc56</td>\n",
       "      <td>7350</td>\n",
       "      <td>2014-11-20 19</td>\n",
       "      <td>2014-11-20</td>\n",
       "      <td>19</td>\n",
       "    </tr>\n",
       "  </tbody>\n",
       "</table>\n",
       "</div>"
      ],
      "text/plain": [
       "          user_id    item_id behavior_type user_geohash item_category  \\\n",
       "3588708  60575815  131921232             1          NaN          6512   \n",
       "1931135  11361547  242111474             1      94j70nw          5027   \n",
       "6173016  36953591  362402083             1      94jcjpf         10049   \n",
       "3652328  63489689  171654122             2          NaN          1121   \n",
       "7688390  61948623   92266285             1      mtobc56          7350   \n",
       "\n",
       "                  time        date hour  \n",
       "3588708  2014-12-11 10  2014-12-11   10  \n",
       "1931135  2014-12-01 20  2014-12-01   20  \n",
       "6173016  2014-12-13 22  2014-12-13   22  \n",
       "3652328  2014-11-27 22  2014-11-27   22  \n",
       "7688390  2014-11-20 19  2014-11-20   19  "
      ]
     },
     "execution_count": 10,
     "metadata": {},
     "output_type": "execute_result"
    }
   ],
   "source": [
    "user_data.head()"
   ]
  },
  {
   "cell_type": "code",
   "execution_count": 11,
   "metadata": {
    "ExecuteTime": {
     "end_time": "2020-09-30T08:27:33.095398Z",
     "start_time": "2020-09-30T08:27:14.512094Z"
    }
   },
   "outputs": [
    {
     "data": {
      "text/html": [
       "<div>\n",
       "<style scoped>\n",
       "    .dataframe tbody tr th:only-of-type {\n",
       "        vertical-align: middle;\n",
       "    }\n",
       "\n",
       "    .dataframe tbody tr th {\n",
       "        vertical-align: top;\n",
       "    }\n",
       "\n",
       "    .dataframe thead th {\n",
       "        text-align: right;\n",
       "    }\n",
       "</style>\n",
       "<table border=\"1\" class=\"dataframe\">\n",
       "  <thead>\n",
       "    <tr style=\"text-align: right;\">\n",
       "      <th></th>\n",
       "      <th>user_id</th>\n",
       "      <th>item_id</th>\n",
       "      <th>behavior_type</th>\n",
       "      <th>user_geohash</th>\n",
       "      <th>item_category</th>\n",
       "      <th>time</th>\n",
       "      <th>date</th>\n",
       "      <th>hour</th>\n",
       "    </tr>\n",
       "  </thead>\n",
       "  <tbody>\n",
       "    <tr>\n",
       "      <th>count</th>\n",
       "      <td>2451381</td>\n",
       "      <td>2451381</td>\n",
       "      <td>2451381</td>\n",
       "      <td>784163</td>\n",
       "      <td>2451381</td>\n",
       "      <td>2451381</td>\n",
       "      <td>2451381</td>\n",
       "      <td>2451381</td>\n",
       "    </tr>\n",
       "    <tr>\n",
       "      <th>unique</th>\n",
       "      <td>9972</td>\n",
       "      <td>1308755</td>\n",
       "      <td>4</td>\n",
       "      <td>300408</td>\n",
       "      <td>7965</td>\n",
       "      <td>744</td>\n",
       "      <td>31</td>\n",
       "      <td>24</td>\n",
       "    </tr>\n",
       "    <tr>\n",
       "      <th>top</th>\n",
       "      <td>36233277</td>\n",
       "      <td>112921337</td>\n",
       "      <td>1</td>\n",
       "      <td>94ek6ke</td>\n",
       "      <td>1863</td>\n",
       "      <td>2014-12-11 22</td>\n",
       "      <td>2014-12-12</td>\n",
       "      <td>22</td>\n",
       "    </tr>\n",
       "    <tr>\n",
       "      <th>freq</th>\n",
       "      <td>6116</td>\n",
       "      <td>287</td>\n",
       "      <td>2309909</td>\n",
       "      <td>213</td>\n",
       "      <td>78281</td>\n",
       "      <td>10940</td>\n",
       "      <td>138316</td>\n",
       "      <td>218057</td>\n",
       "    </tr>\n",
       "  </tbody>\n",
       "</table>\n",
       "</div>"
      ],
      "text/plain": [
       "         user_id    item_id behavior_type user_geohash item_category  \\\n",
       "count    2451381    2451381       2451381       784163       2451381   \n",
       "unique      9972    1308755             4       300408          7965   \n",
       "top     36233277  112921337             1      94ek6ke          1863   \n",
       "freq        6116        287       2309909          213         78281   \n",
       "\n",
       "                 time        date     hour  \n",
       "count         2451381     2451381  2451381  \n",
       "unique            744          31       24  \n",
       "top     2014-12-11 22  2014-12-12       22  \n",
       "freq            10940      138316   218057  "
      ]
     },
     "execution_count": 11,
     "metadata": {},
     "output_type": "execute_result"
    }
   ],
   "source": [
    "user_data.describe(include=['object'])"
   ]
  },
  {
   "cell_type": "code",
   "execution_count": 12,
   "metadata": {
    "ExecuteTime": {
     "end_time": "2020-09-30T08:27:45.233989Z",
     "start_time": "2020-09-30T08:27:33.101402Z"
    }
   },
   "outputs": [
    {
     "data": {
      "text/html": [
       "<div>\n",
       "<style scoped>\n",
       "    .dataframe tbody tr th:only-of-type {\n",
       "        vertical-align: middle;\n",
       "    }\n",
       "\n",
       "    .dataframe tbody tr th {\n",
       "        vertical-align: top;\n",
       "    }\n",
       "\n",
       "    .dataframe thead th {\n",
       "        text-align: right;\n",
       "    }\n",
       "</style>\n",
       "<table border=\"1\" class=\"dataframe\">\n",
       "  <thead>\n",
       "    <tr style=\"text-align: right;\">\n",
       "      <th></th>\n",
       "      <th>user_id</th>\n",
       "      <th>item_id</th>\n",
       "      <th>behavior_type</th>\n",
       "      <th>user_geohash</th>\n",
       "      <th>item_category</th>\n",
       "      <th>time</th>\n",
       "      <th>date</th>\n",
       "      <th>hour</th>\n",
       "    </tr>\n",
       "  </thead>\n",
       "  <tbody>\n",
       "    <tr>\n",
       "      <th>count</th>\n",
       "      <td>2451381</td>\n",
       "      <td>2451381</td>\n",
       "      <td>2451381</td>\n",
       "      <td>784163</td>\n",
       "      <td>2451381</td>\n",
       "      <td>2451381</td>\n",
       "      <td>2451381</td>\n",
       "      <td>2451381</td>\n",
       "    </tr>\n",
       "    <tr>\n",
       "      <th>unique</th>\n",
       "      <td>9972</td>\n",
       "      <td>1308755</td>\n",
       "      <td>4</td>\n",
       "      <td>300408</td>\n",
       "      <td>7965</td>\n",
       "      <td>744</td>\n",
       "      <td>31</td>\n",
       "      <td>24</td>\n",
       "    </tr>\n",
       "    <tr>\n",
       "      <th>top</th>\n",
       "      <td>36233277</td>\n",
       "      <td>112921337</td>\n",
       "      <td>1</td>\n",
       "      <td>94ek6ke</td>\n",
       "      <td>1863</td>\n",
       "      <td>2014-12-11 22</td>\n",
       "      <td>2014-12-12</td>\n",
       "      <td>22</td>\n",
       "    </tr>\n",
       "    <tr>\n",
       "      <th>freq</th>\n",
       "      <td>6116</td>\n",
       "      <td>287</td>\n",
       "      <td>2309909</td>\n",
       "      <td>213</td>\n",
       "      <td>78281</td>\n",
       "      <td>10940</td>\n",
       "      <td>138316</td>\n",
       "      <td>218057</td>\n",
       "    </tr>\n",
       "  </tbody>\n",
       "</table>\n",
       "</div>"
      ],
      "text/plain": [
       "         user_id    item_id behavior_type user_geohash item_category  \\\n",
       "count    2451381    2451381       2451381       784163       2451381   \n",
       "unique      9972    1308755             4       300408          7965   \n",
       "top     36233277  112921337             1      94ek6ke          1863   \n",
       "freq        6116        287       2309909          213         78281   \n",
       "\n",
       "                 time        date     hour  \n",
       "count         2451381     2451381  2451381  \n",
       "unique            744          31       24  \n",
       "top     2014-12-11 22  2014-12-12       22  \n",
       "freq            10940      138316   218057  "
      ]
     },
     "execution_count": 12,
     "metadata": {},
     "output_type": "execute_result"
    }
   ],
   "source": [
    "user_data.describe()"
   ]
  },
  {
   "cell_type": "code",
   "execution_count": 13,
   "metadata": {
    "ExecuteTime": {
     "end_time": "2020-09-30T08:27:46.071575Z",
     "start_time": "2020-09-30T08:27:45.238991Z"
    }
   },
   "outputs": [
    {
     "data": {
      "text/plain": [
       "count     2451381\n",
       "unique         24\n",
       "top            22\n",
       "freq       218057\n",
       "Name: hour, dtype: object"
      ]
     },
     "execution_count": 13,
     "metadata": {},
     "output_type": "execute_result"
    }
   ],
   "source": [
    "user_data['hour'].describe()"
   ]
  },
  {
   "cell_type": "markdown",
   "metadata": {},
   "source": [
    "可以看出无异常值"
   ]
  },
  {
   "cell_type": "markdown",
   "metadata": {},
   "source": [
    "## 数据分析"
   ]
  },
  {
   "cell_type": "markdown",
   "metadata": {},
   "source": [
    "### pv,uv分析"
   ]
  },
  {
   "cell_type": "code",
   "execution_count": 14,
   "metadata": {
    "ExecuteTime": {
     "end_time": "2020-09-30T08:27:49.799064Z",
     "start_time": "2020-09-30T08:27:46.076577Z"
    }
   },
   "outputs": [],
   "source": [
    "# pv：访问量，每天网页浏览量或者点击量，uv:访客量，一般将一个用户当成一个访问量，一个客户当成一个独立访客\n",
    "pv_daily = user_data.groupby('date').count()['user_id']"
   ]
  },
  {
   "cell_type": "code",
   "execution_count": 15,
   "metadata": {
    "ExecuteTime": {
     "end_time": "2020-09-30T08:27:53.270241Z",
     "start_time": "2020-09-30T08:27:49.799064Z"
    }
   },
   "outputs": [
    {
     "data": {
      "text/html": [
       "<div>\n",
       "<style scoped>\n",
       "    .dataframe tbody tr th:only-of-type {\n",
       "        vertical-align: middle;\n",
       "    }\n",
       "\n",
       "    .dataframe tbody tr th {\n",
       "        vertical-align: top;\n",
       "    }\n",
       "\n",
       "    .dataframe thead th {\n",
       "        text-align: right;\n",
       "    }\n",
       "</style>\n",
       "<table border=\"1\" class=\"dataframe\">\n",
       "  <thead>\n",
       "    <tr style=\"text-align: right;\">\n",
       "      <th></th>\n",
       "      <th>user_id</th>\n",
       "      <th>item_id</th>\n",
       "      <th>behavior_type</th>\n",
       "      <th>user_geohash</th>\n",
       "      <th>item_category</th>\n",
       "      <th>time</th>\n",
       "      <th>hour</th>\n",
       "    </tr>\n",
       "    <tr>\n",
       "      <th>date</th>\n",
       "      <th></th>\n",
       "      <th></th>\n",
       "      <th></th>\n",
       "      <th></th>\n",
       "      <th></th>\n",
       "      <th></th>\n",
       "      <th></th>\n",
       "    </tr>\n",
       "  </thead>\n",
       "  <tbody>\n",
       "    <tr>\n",
       "      <th>2014-11-18</th>\n",
       "      <td>73100</td>\n",
       "      <td>73100</td>\n",
       "      <td>73100</td>\n",
       "      <td>19846</td>\n",
       "      <td>73100</td>\n",
       "      <td>73100</td>\n",
       "      <td>73100</td>\n",
       "    </tr>\n",
       "    <tr>\n",
       "      <th>2014-11-19</th>\n",
       "      <td>71851</td>\n",
       "      <td>71851</td>\n",
       "      <td>71851</td>\n",
       "      <td>20772</td>\n",
       "      <td>71851</td>\n",
       "      <td>71851</td>\n",
       "      <td>71851</td>\n",
       "    </tr>\n",
       "    <tr>\n",
       "      <th>2014-11-20</th>\n",
       "      <td>70700</td>\n",
       "      <td>70700</td>\n",
       "      <td>70700</td>\n",
       "      <td>19347</td>\n",
       "      <td>70700</td>\n",
       "      <td>70700</td>\n",
       "      <td>70700</td>\n",
       "    </tr>\n",
       "    <tr>\n",
       "      <th>2014-11-21</th>\n",
       "      <td>66641</td>\n",
       "      <td>66641</td>\n",
       "      <td>66641</td>\n",
       "      <td>18111</td>\n",
       "      <td>66641</td>\n",
       "      <td>66641</td>\n",
       "      <td>66641</td>\n",
       "    </tr>\n",
       "    <tr>\n",
       "      <th>2014-11-22</th>\n",
       "      <td>72575</td>\n",
       "      <td>72575</td>\n",
       "      <td>72575</td>\n",
       "      <td>20120</td>\n",
       "      <td>72575</td>\n",
       "      <td>72575</td>\n",
       "      <td>72575</td>\n",
       "    </tr>\n",
       "    <tr>\n",
       "      <th>2014-11-23</th>\n",
       "      <td>76148</td>\n",
       "      <td>76148</td>\n",
       "      <td>76148</td>\n",
       "      <td>21122</td>\n",
       "      <td>76148</td>\n",
       "      <td>76148</td>\n",
       "      <td>76148</td>\n",
       "    </tr>\n",
       "    <tr>\n",
       "      <th>2014-11-24</th>\n",
       "      <td>75884</td>\n",
       "      <td>75884</td>\n",
       "      <td>75884</td>\n",
       "      <td>21654</td>\n",
       "      <td>75884</td>\n",
       "      <td>75884</td>\n",
       "      <td>75884</td>\n",
       "    </tr>\n",
       "    <tr>\n",
       "      <th>2014-11-25</th>\n",
       "      <td>74122</td>\n",
       "      <td>74122</td>\n",
       "      <td>74122</td>\n",
       "      <td>19123</td>\n",
       "      <td>74122</td>\n",
       "      <td>74122</td>\n",
       "      <td>74122</td>\n",
       "    </tr>\n",
       "    <tr>\n",
       "      <th>2014-11-26</th>\n",
       "      <td>72188</td>\n",
       "      <td>72188</td>\n",
       "      <td>72188</td>\n",
       "      <td>18478</td>\n",
       "      <td>72188</td>\n",
       "      <td>72188</td>\n",
       "      <td>72188</td>\n",
       "    </tr>\n",
       "    <tr>\n",
       "      <th>2014-11-27</th>\n",
       "      <td>73987</td>\n",
       "      <td>73987</td>\n",
       "      <td>73987</td>\n",
       "      <td>19954</td>\n",
       "      <td>73987</td>\n",
       "      <td>73987</td>\n",
       "      <td>73987</td>\n",
       "    </tr>\n",
       "    <tr>\n",
       "      <th>2014-11-28</th>\n",
       "      <td>68006</td>\n",
       "      <td>68006</td>\n",
       "      <td>68006</td>\n",
       "      <td>17522</td>\n",
       "      <td>68006</td>\n",
       "      <td>68006</td>\n",
       "      <td>68006</td>\n",
       "    </tr>\n",
       "    <tr>\n",
       "      <th>2014-11-29</th>\n",
       "      <td>72919</td>\n",
       "      <td>72919</td>\n",
       "      <td>72919</td>\n",
       "      <td>19513</td>\n",
       "      <td>72919</td>\n",
       "      <td>72919</td>\n",
       "      <td>72919</td>\n",
       "    </tr>\n",
       "    <tr>\n",
       "      <th>2014-11-30</th>\n",
       "      <td>80512</td>\n",
       "      <td>80512</td>\n",
       "      <td>80512</td>\n",
       "      <td>20666</td>\n",
       "      <td>80512</td>\n",
       "      <td>80512</td>\n",
       "      <td>80512</td>\n",
       "    </tr>\n",
       "    <tr>\n",
       "      <th>2014-12-01</th>\n",
       "      <td>78491</td>\n",
       "      <td>78491</td>\n",
       "      <td>78491</td>\n",
       "      <td>20557</td>\n",
       "      <td>78491</td>\n",
       "      <td>78491</td>\n",
       "      <td>78491</td>\n",
       "    </tr>\n",
       "    <tr>\n",
       "      <th>2014-12-02</th>\n",
       "      <td>80900</td>\n",
       "      <td>80900</td>\n",
       "      <td>80900</td>\n",
       "      <td>21547</td>\n",
       "      <td>80900</td>\n",
       "      <td>80900</td>\n",
       "      <td>80900</td>\n",
       "    </tr>\n",
       "    <tr>\n",
       "      <th>2014-12-03</th>\n",
       "      <td>82411</td>\n",
       "      <td>82411</td>\n",
       "      <td>82411</td>\n",
       "      <td>21491</td>\n",
       "      <td>82411</td>\n",
       "      <td>82411</td>\n",
       "      <td>82411</td>\n",
       "    </tr>\n",
       "    <tr>\n",
       "      <th>2014-12-04</th>\n",
       "      <td>79832</td>\n",
       "      <td>79832</td>\n",
       "      <td>79832</td>\n",
       "      <td>21063</td>\n",
       "      <td>79832</td>\n",
       "      <td>79832</td>\n",
       "      <td>79832</td>\n",
       "    </tr>\n",
       "    <tr>\n",
       "      <th>2014-12-05</th>\n",
       "      <td>72579</td>\n",
       "      <td>72579</td>\n",
       "      <td>72579</td>\n",
       "      <td>18747</td>\n",
       "      <td>72579</td>\n",
       "      <td>72579</td>\n",
       "      <td>72579</td>\n",
       "    </tr>\n",
       "    <tr>\n",
       "      <th>2014-12-06</th>\n",
       "      <td>78025</td>\n",
       "      <td>78025</td>\n",
       "      <td>78025</td>\n",
       "      <td>27151</td>\n",
       "      <td>78025</td>\n",
       "      <td>78025</td>\n",
       "      <td>78025</td>\n",
       "    </tr>\n",
       "    <tr>\n",
       "      <th>2014-12-07</th>\n",
       "      <td>79744</td>\n",
       "      <td>79744</td>\n",
       "      <td>79744</td>\n",
       "      <td>28562</td>\n",
       "      <td>79744</td>\n",
       "      <td>79744</td>\n",
       "      <td>79744</td>\n",
       "    </tr>\n",
       "    <tr>\n",
       "      <th>2014-12-08</th>\n",
       "      <td>76959</td>\n",
       "      <td>76959</td>\n",
       "      <td>76959</td>\n",
       "      <td>29589</td>\n",
       "      <td>76959</td>\n",
       "      <td>76959</td>\n",
       "      <td>76959</td>\n",
       "    </tr>\n",
       "    <tr>\n",
       "      <th>2014-12-09</th>\n",
       "      <td>79822</td>\n",
       "      <td>79822</td>\n",
       "      <td>79822</td>\n",
       "      <td>31811</td>\n",
       "      <td>79822</td>\n",
       "      <td>79822</td>\n",
       "      <td>79822</td>\n",
       "    </tr>\n",
       "    <tr>\n",
       "      <th>2014-12-10</th>\n",
       "      <td>84400</td>\n",
       "      <td>84400</td>\n",
       "      <td>84400</td>\n",
       "      <td>33521</td>\n",
       "      <td>84400</td>\n",
       "      <td>84400</td>\n",
       "      <td>84400</td>\n",
       "    </tr>\n",
       "    <tr>\n",
       "      <th>2014-12-11</th>\n",
       "      <td>97825</td>\n",
       "      <td>97825</td>\n",
       "      <td>97825</td>\n",
       "      <td>40517</td>\n",
       "      <td>97825</td>\n",
       "      <td>97825</td>\n",
       "      <td>97825</td>\n",
       "    </tr>\n",
       "    <tr>\n",
       "      <th>2014-12-12</th>\n",
       "      <td>138316</td>\n",
       "      <td>138316</td>\n",
       "      <td>138316</td>\n",
       "      <td>52902</td>\n",
       "      <td>138316</td>\n",
       "      <td>138316</td>\n",
       "      <td>138316</td>\n",
       "    </tr>\n",
       "    <tr>\n",
       "      <th>2014-12-13</th>\n",
       "      <td>81679</td>\n",
       "      <td>81679</td>\n",
       "      <td>81679</td>\n",
       "      <td>31153</td>\n",
       "      <td>81679</td>\n",
       "      <td>81679</td>\n",
       "      <td>81679</td>\n",
       "    </tr>\n",
       "    <tr>\n",
       "      <th>2014-12-14</th>\n",
       "      <td>80671</td>\n",
       "      <td>80671</td>\n",
       "      <td>80671</td>\n",
       "      <td>31140</td>\n",
       "      <td>80671</td>\n",
       "      <td>80671</td>\n",
       "      <td>80671</td>\n",
       "    </tr>\n",
       "    <tr>\n",
       "      <th>2014-12-15</th>\n",
       "      <td>79728</td>\n",
       "      <td>79728</td>\n",
       "      <td>79728</td>\n",
       "      <td>30453</td>\n",
       "      <td>79728</td>\n",
       "      <td>79728</td>\n",
       "      <td>79728</td>\n",
       "    </tr>\n",
       "    <tr>\n",
       "      <th>2014-12-16</th>\n",
       "      <td>78965</td>\n",
       "      <td>78965</td>\n",
       "      <td>78965</td>\n",
       "      <td>29980</td>\n",
       "      <td>78965</td>\n",
       "      <td>78965</td>\n",
       "      <td>78965</td>\n",
       "    </tr>\n",
       "    <tr>\n",
       "      <th>2014-12-17</th>\n",
       "      <td>77116</td>\n",
       "      <td>77116</td>\n",
       "      <td>77116</td>\n",
       "      <td>29270</td>\n",
       "      <td>77116</td>\n",
       "      <td>77116</td>\n",
       "      <td>77116</td>\n",
       "    </tr>\n",
       "    <tr>\n",
       "      <th>2014-12-18</th>\n",
       "      <td>75285</td>\n",
       "      <td>75285</td>\n",
       "      <td>75285</td>\n",
       "      <td>28481</td>\n",
       "      <td>75285</td>\n",
       "      <td>75285</td>\n",
       "      <td>75285</td>\n",
       "    </tr>\n",
       "  </tbody>\n",
       "</table>\n",
       "</div>"
      ],
      "text/plain": [
       "            user_id  item_id  behavior_type  user_geohash  item_category  \\\n",
       "date                                                                       \n",
       "2014-11-18    73100    73100          73100         19846          73100   \n",
       "2014-11-19    71851    71851          71851         20772          71851   \n",
       "2014-11-20    70700    70700          70700         19347          70700   \n",
       "2014-11-21    66641    66641          66641         18111          66641   \n",
       "2014-11-22    72575    72575          72575         20120          72575   \n",
       "2014-11-23    76148    76148          76148         21122          76148   \n",
       "2014-11-24    75884    75884          75884         21654          75884   \n",
       "2014-11-25    74122    74122          74122         19123          74122   \n",
       "2014-11-26    72188    72188          72188         18478          72188   \n",
       "2014-11-27    73987    73987          73987         19954          73987   \n",
       "2014-11-28    68006    68006          68006         17522          68006   \n",
       "2014-11-29    72919    72919          72919         19513          72919   \n",
       "2014-11-30    80512    80512          80512         20666          80512   \n",
       "2014-12-01    78491    78491          78491         20557          78491   \n",
       "2014-12-02    80900    80900          80900         21547          80900   \n",
       "2014-12-03    82411    82411          82411         21491          82411   \n",
       "2014-12-04    79832    79832          79832         21063          79832   \n",
       "2014-12-05    72579    72579          72579         18747          72579   \n",
       "2014-12-06    78025    78025          78025         27151          78025   \n",
       "2014-12-07    79744    79744          79744         28562          79744   \n",
       "2014-12-08    76959    76959          76959         29589          76959   \n",
       "2014-12-09    79822    79822          79822         31811          79822   \n",
       "2014-12-10    84400    84400          84400         33521          84400   \n",
       "2014-12-11    97825    97825          97825         40517          97825   \n",
       "2014-12-12   138316   138316         138316         52902         138316   \n",
       "2014-12-13    81679    81679          81679         31153          81679   \n",
       "2014-12-14    80671    80671          80671         31140          80671   \n",
       "2014-12-15    79728    79728          79728         30453          79728   \n",
       "2014-12-16    78965    78965          78965         29980          78965   \n",
       "2014-12-17    77116    77116          77116         29270          77116   \n",
       "2014-12-18    75285    75285          75285         28481          75285   \n",
       "\n",
       "              time    hour  \n",
       "date                        \n",
       "2014-11-18   73100   73100  \n",
       "2014-11-19   71851   71851  \n",
       "2014-11-20   70700   70700  \n",
       "2014-11-21   66641   66641  \n",
       "2014-11-22   72575   72575  \n",
       "2014-11-23   76148   76148  \n",
       "2014-11-24   75884   75884  \n",
       "2014-11-25   74122   74122  \n",
       "2014-11-26   72188   72188  \n",
       "2014-11-27   73987   73987  \n",
       "2014-11-28   68006   68006  \n",
       "2014-11-29   72919   72919  \n",
       "2014-11-30   80512   80512  \n",
       "2014-12-01   78491   78491  \n",
       "2014-12-02   80900   80900  \n",
       "2014-12-03   82411   82411  \n",
       "2014-12-04   79832   79832  \n",
       "2014-12-05   72579   72579  \n",
       "2014-12-06   78025   78025  \n",
       "2014-12-07   79744   79744  \n",
       "2014-12-08   76959   76959  \n",
       "2014-12-09   79822   79822  \n",
       "2014-12-10   84400   84400  \n",
       "2014-12-11   97825   97825  \n",
       "2014-12-12  138316  138316  \n",
       "2014-12-13   81679   81679  \n",
       "2014-12-14   80671   80671  \n",
       "2014-12-15   79728   79728  \n",
       "2014-12-16   78965   78965  \n",
       "2014-12-17   77116   77116  \n",
       "2014-12-18   75285   75285  "
      ]
     },
     "execution_count": 15,
     "metadata": {},
     "output_type": "execute_result"
    }
   ],
   "source": [
    "user_data.groupby('date').count()"
   ]
  },
  {
   "cell_type": "code",
   "execution_count": 16,
   "metadata": {
    "ExecuteTime": {
     "end_time": "2020-09-30T08:27:53.596640Z",
     "start_time": "2020-09-30T08:27:53.274602Z"
    }
   },
   "outputs": [
    {
     "data": {
      "text/plain": [
       "date\n",
       "2014-11-18    73100\n",
       "2014-11-19    71851\n",
       "2014-11-20    70700\n",
       "2014-11-21    66641\n",
       "2014-11-22    72575\n",
       "Name: user_id, dtype: int64"
      ]
     },
     "execution_count": 16,
     "metadata": {},
     "output_type": "execute_result"
    }
   ],
   "source": [
    "pv_daily.head()#每天网页的访问量"
   ]
  },
  {
   "cell_type": "code",
   "execution_count": 17,
   "metadata": {
    "ExecuteTime": {
     "end_time": "2020-09-30T08:27:55.261931Z",
     "start_time": "2020-09-30T08:27:53.601644Z"
    }
   },
   "outputs": [],
   "source": [
    "uv_daily = user_data.groupby('date')['user_id'].apply(lambda x : x.drop_duplicates().count())#每天用户的访问量"
   ]
  },
  {
   "cell_type": "code",
   "execution_count": 18,
   "metadata": {
    "ExecuteTime": {
     "end_time": "2020-09-30T08:27:55.277615Z",
     "start_time": "2020-09-30T08:27:55.261931Z"
    }
   },
   "outputs": [
    {
     "data": {
      "text/plain": [
       "date\n",
       "2014-11-18    5628\n",
       "2014-11-19    5685\n",
       "2014-11-20    5630\n",
       "2014-11-21    5514\n",
       "2014-11-22    5481\n",
       "Name: user_id, dtype: int64"
      ]
     },
     "execution_count": 18,
     "metadata": {},
     "output_type": "execute_result"
    }
   ],
   "source": [
    "uv_daily.head()"
   ]
  },
  {
   "cell_type": "code",
   "execution_count": 19,
   "metadata": {
    "ExecuteTime": {
     "end_time": "2020-09-30T08:27:55.461842Z",
     "start_time": "2020-09-30T08:27:55.282617Z"
    }
   },
   "outputs": [],
   "source": [
    "pv_uv_daily = pd.concat([pv_daily,uv_daily],axis = 1)\n"
   ]
  },
  {
   "cell_type": "code",
   "execution_count": 20,
   "metadata": {
    "ExecuteTime": {
     "end_time": "2020-09-30T08:27:55.596938Z",
     "start_time": "2020-09-30T08:27:55.465846Z"
    }
   },
   "outputs": [
    {
     "data": {
      "text/html": [
       "<div>\n",
       "<style scoped>\n",
       "    .dataframe tbody tr th:only-of-type {\n",
       "        vertical-align: middle;\n",
       "    }\n",
       "\n",
       "    .dataframe tbody tr th {\n",
       "        vertical-align: top;\n",
       "    }\n",
       "\n",
       "    .dataframe thead th {\n",
       "        text-align: right;\n",
       "    }\n",
       "</style>\n",
       "<table border=\"1\" class=\"dataframe\">\n",
       "  <thead>\n",
       "    <tr style=\"text-align: right;\">\n",
       "      <th></th>\n",
       "      <th>user_id</th>\n",
       "      <th>user_id</th>\n",
       "    </tr>\n",
       "    <tr>\n",
       "      <th>date</th>\n",
       "      <th></th>\n",
       "      <th></th>\n",
       "    </tr>\n",
       "  </thead>\n",
       "  <tbody>\n",
       "    <tr>\n",
       "      <th>2014-11-18</th>\n",
       "      <td>73100</td>\n",
       "      <td>5628</td>\n",
       "    </tr>\n",
       "    <tr>\n",
       "      <th>2014-11-19</th>\n",
       "      <td>71851</td>\n",
       "      <td>5685</td>\n",
       "    </tr>\n",
       "    <tr>\n",
       "      <th>2014-11-20</th>\n",
       "      <td>70700</td>\n",
       "      <td>5630</td>\n",
       "    </tr>\n",
       "    <tr>\n",
       "      <th>2014-11-21</th>\n",
       "      <td>66641</td>\n",
       "      <td>5514</td>\n",
       "    </tr>\n",
       "    <tr>\n",
       "      <th>2014-11-22</th>\n",
       "      <td>72575</td>\n",
       "      <td>5481</td>\n",
       "    </tr>\n",
       "    <tr>\n",
       "      <th>2014-11-23</th>\n",
       "      <td>76148</td>\n",
       "      <td>5705</td>\n",
       "    </tr>\n",
       "    <tr>\n",
       "      <th>2014-11-24</th>\n",
       "      <td>75884</td>\n",
       "      <td>5774</td>\n",
       "    </tr>\n",
       "    <tr>\n",
       "      <th>2014-11-25</th>\n",
       "      <td>74122</td>\n",
       "      <td>5612</td>\n",
       "    </tr>\n",
       "    <tr>\n",
       "      <th>2014-11-26</th>\n",
       "      <td>72188</td>\n",
       "      <td>5613</td>\n",
       "    </tr>\n",
       "    <tr>\n",
       "      <th>2014-11-27</th>\n",
       "      <td>73987</td>\n",
       "      <td>5625</td>\n",
       "    </tr>\n",
       "    <tr>\n",
       "      <th>2014-11-28</th>\n",
       "      <td>68006</td>\n",
       "      <td>5476</td>\n",
       "    </tr>\n",
       "    <tr>\n",
       "      <th>2014-11-29</th>\n",
       "      <td>72919</td>\n",
       "      <td>5519</td>\n",
       "    </tr>\n",
       "    <tr>\n",
       "      <th>2014-11-30</th>\n",
       "      <td>80512</td>\n",
       "      <td>5725</td>\n",
       "    </tr>\n",
       "    <tr>\n",
       "      <th>2014-12-01</th>\n",
       "      <td>78491</td>\n",
       "      <td>5839</td>\n",
       "    </tr>\n",
       "    <tr>\n",
       "      <th>2014-12-02</th>\n",
       "      <td>80900</td>\n",
       "      <td>5814</td>\n",
       "    </tr>\n",
       "    <tr>\n",
       "      <th>2014-12-03</th>\n",
       "      <td>82411</td>\n",
       "      <td>5903</td>\n",
       "    </tr>\n",
       "    <tr>\n",
       "      <th>2014-12-04</th>\n",
       "      <td>79832</td>\n",
       "      <td>5826</td>\n",
       "    </tr>\n",
       "    <tr>\n",
       "      <th>2014-12-05</th>\n",
       "      <td>72579</td>\n",
       "      <td>5719</td>\n",
       "    </tr>\n",
       "    <tr>\n",
       "      <th>2014-12-06</th>\n",
       "      <td>78025</td>\n",
       "      <td>5743</td>\n",
       "    </tr>\n",
       "    <tr>\n",
       "      <th>2014-12-07</th>\n",
       "      <td>79744</td>\n",
       "      <td>5751</td>\n",
       "    </tr>\n",
       "    <tr>\n",
       "      <th>2014-12-08</th>\n",
       "      <td>76959</td>\n",
       "      <td>5823</td>\n",
       "    </tr>\n",
       "    <tr>\n",
       "      <th>2014-12-09</th>\n",
       "      <td>79822</td>\n",
       "      <td>5900</td>\n",
       "    </tr>\n",
       "    <tr>\n",
       "      <th>2014-12-10</th>\n",
       "      <td>84400</td>\n",
       "      <td>5935</td>\n",
       "    </tr>\n",
       "    <tr>\n",
       "      <th>2014-12-11</th>\n",
       "      <td>97825</td>\n",
       "      <td>6272</td>\n",
       "    </tr>\n",
       "    <tr>\n",
       "      <th>2014-12-12</th>\n",
       "      <td>138316</td>\n",
       "      <td>7168</td>\n",
       "    </tr>\n",
       "    <tr>\n",
       "      <th>2014-12-13</th>\n",
       "      <td>81679</td>\n",
       "      <td>6048</td>\n",
       "    </tr>\n",
       "    <tr>\n",
       "      <th>2014-12-14</th>\n",
       "      <td>80671</td>\n",
       "      <td>5965</td>\n",
       "    </tr>\n",
       "    <tr>\n",
       "      <th>2014-12-15</th>\n",
       "      <td>79728</td>\n",
       "      <td>6094</td>\n",
       "    </tr>\n",
       "    <tr>\n",
       "      <th>2014-12-16</th>\n",
       "      <td>78965</td>\n",
       "      <td>6035</td>\n",
       "    </tr>\n",
       "    <tr>\n",
       "      <th>2014-12-17</th>\n",
       "      <td>77116</td>\n",
       "      <td>5935</td>\n",
       "    </tr>\n",
       "    <tr>\n",
       "      <th>2014-12-18</th>\n",
       "      <td>75285</td>\n",
       "      <td>5830</td>\n",
       "    </tr>\n",
       "  </tbody>\n",
       "</table>\n",
       "</div>"
      ],
      "text/plain": [
       "            user_id  user_id\n",
       "date                        \n",
       "2014-11-18    73100     5628\n",
       "2014-11-19    71851     5685\n",
       "2014-11-20    70700     5630\n",
       "2014-11-21    66641     5514\n",
       "2014-11-22    72575     5481\n",
       "2014-11-23    76148     5705\n",
       "2014-11-24    75884     5774\n",
       "2014-11-25    74122     5612\n",
       "2014-11-26    72188     5613\n",
       "2014-11-27    73987     5625\n",
       "2014-11-28    68006     5476\n",
       "2014-11-29    72919     5519\n",
       "2014-11-30    80512     5725\n",
       "2014-12-01    78491     5839\n",
       "2014-12-02    80900     5814\n",
       "2014-12-03    82411     5903\n",
       "2014-12-04    79832     5826\n",
       "2014-12-05    72579     5719\n",
       "2014-12-06    78025     5743\n",
       "2014-12-07    79744     5751\n",
       "2014-12-08    76959     5823\n",
       "2014-12-09    79822     5900\n",
       "2014-12-10    84400     5935\n",
       "2014-12-11    97825     6272\n",
       "2014-12-12   138316     7168\n",
       "2014-12-13    81679     6048\n",
       "2014-12-14    80671     5965\n",
       "2014-12-15    79728     6094\n",
       "2014-12-16    78965     6035\n",
       "2014-12-17    77116     5935\n",
       "2014-12-18    75285     5830"
      ]
     },
     "execution_count": 20,
     "metadata": {},
     "output_type": "execute_result"
    }
   ],
   "source": [
    "pv_uv_daily"
   ]
  },
  {
   "cell_type": "code",
   "execution_count": 21,
   "metadata": {
    "ExecuteTime": {
     "end_time": "2020-09-30T08:27:55.695008Z",
     "start_time": "2020-09-30T08:27:55.601940Z"
    }
   },
   "outputs": [
    {
     "data": {
      "text/html": [
       "<div>\n",
       "<style scoped>\n",
       "    .dataframe tbody tr th:only-of-type {\n",
       "        vertical-align: middle;\n",
       "    }\n",
       "\n",
       "    .dataframe tbody tr th {\n",
       "        vertical-align: top;\n",
       "    }\n",
       "\n",
       "    .dataframe thead th {\n",
       "        text-align: right;\n",
       "    }\n",
       "</style>\n",
       "<table border=\"1\" class=\"dataframe\">\n",
       "  <thead>\n",
       "    <tr style=\"text-align: right;\">\n",
       "      <th></th>\n",
       "      <th>user_id</th>\n",
       "      <th>user_id</th>\n",
       "    </tr>\n",
       "    <tr>\n",
       "      <th>date</th>\n",
       "      <th></th>\n",
       "      <th></th>\n",
       "    </tr>\n",
       "  </thead>\n",
       "  <tbody>\n",
       "    <tr>\n",
       "      <th>2014-11-18</th>\n",
       "      <td>73100</td>\n",
       "      <td>5628</td>\n",
       "    </tr>\n",
       "    <tr>\n",
       "      <th>2014-11-19</th>\n",
       "      <td>71851</td>\n",
       "      <td>5685</td>\n",
       "    </tr>\n",
       "    <tr>\n",
       "      <th>2014-11-20</th>\n",
       "      <td>70700</td>\n",
       "      <td>5630</td>\n",
       "    </tr>\n",
       "    <tr>\n",
       "      <th>2014-11-21</th>\n",
       "      <td>66641</td>\n",
       "      <td>5514</td>\n",
       "    </tr>\n",
       "    <tr>\n",
       "      <th>2014-11-22</th>\n",
       "      <td>72575</td>\n",
       "      <td>5481</td>\n",
       "    </tr>\n",
       "  </tbody>\n",
       "</table>\n",
       "</div>"
      ],
      "text/plain": [
       "            user_id  user_id\n",
       "date                        \n",
       "2014-11-18    73100     5628\n",
       "2014-11-19    71851     5685\n",
       "2014-11-20    70700     5630\n",
       "2014-11-21    66641     5514\n",
       "2014-11-22    72575     5481"
      ]
     },
     "execution_count": 21,
     "metadata": {},
     "output_type": "execute_result"
    }
   ],
   "source": [
    "pv_uv_daily.head()"
   ]
  },
  {
   "cell_type": "code",
   "execution_count": 22,
   "metadata": {
    "ExecuteTime": {
     "end_time": "2020-09-30T08:27:55.800312Z",
     "start_time": "2020-09-30T08:27:55.700015Z"
    }
   },
   "outputs": [],
   "source": [
    "#重命名\n",
    "# pv_uv_daily.rename(columns={'user_id':'pv','user_id':'uv'},inplace=True)\n",
    "pv_uv_daily.columns = ['pv','uv']"
   ]
  },
  {
   "cell_type": "code",
   "execution_count": 23,
   "metadata": {
    "ExecuteTime": {
     "end_time": "2020-09-30T08:27:55.971689Z",
     "start_time": "2020-09-30T08:27:55.819345Z"
    }
   },
   "outputs": [
    {
     "data": {
      "text/html": [
       "<div>\n",
       "<style scoped>\n",
       "    .dataframe tbody tr th:only-of-type {\n",
       "        vertical-align: middle;\n",
       "    }\n",
       "\n",
       "    .dataframe tbody tr th {\n",
       "        vertical-align: top;\n",
       "    }\n",
       "\n",
       "    .dataframe thead th {\n",
       "        text-align: right;\n",
       "    }\n",
       "</style>\n",
       "<table border=\"1\" class=\"dataframe\">\n",
       "  <thead>\n",
       "    <tr style=\"text-align: right;\">\n",
       "      <th></th>\n",
       "      <th>pv</th>\n",
       "      <th>uv</th>\n",
       "    </tr>\n",
       "    <tr>\n",
       "      <th>date</th>\n",
       "      <th></th>\n",
       "      <th></th>\n",
       "    </tr>\n",
       "  </thead>\n",
       "  <tbody>\n",
       "    <tr>\n",
       "      <th>2014-11-18</th>\n",
       "      <td>73100</td>\n",
       "      <td>5628</td>\n",
       "    </tr>\n",
       "    <tr>\n",
       "      <th>2014-11-19</th>\n",
       "      <td>71851</td>\n",
       "      <td>5685</td>\n",
       "    </tr>\n",
       "    <tr>\n",
       "      <th>2014-11-20</th>\n",
       "      <td>70700</td>\n",
       "      <td>5630</td>\n",
       "    </tr>\n",
       "    <tr>\n",
       "      <th>2014-11-21</th>\n",
       "      <td>66641</td>\n",
       "      <td>5514</td>\n",
       "    </tr>\n",
       "    <tr>\n",
       "      <th>2014-11-22</th>\n",
       "      <td>72575</td>\n",
       "      <td>5481</td>\n",
       "    </tr>\n",
       "  </tbody>\n",
       "</table>\n",
       "</div>"
      ],
      "text/plain": [
       "               pv    uv\n",
       "date                   \n",
       "2014-11-18  73100  5628\n",
       "2014-11-19  71851  5685\n",
       "2014-11-20  70700  5630\n",
       "2014-11-21  66641  5514\n",
       "2014-11-22  72575  5481"
      ]
     },
     "execution_count": 23,
     "metadata": {},
     "output_type": "execute_result"
    }
   ],
   "source": [
    "pv_uv_daily.head()"
   ]
  },
  {
   "cell_type": "code",
   "execution_count": 24,
   "metadata": {
    "ExecuteTime": {
     "end_time": "2020-09-30T08:27:56.375041Z",
     "start_time": "2020-09-30T08:27:55.980696Z"
    }
   },
   "outputs": [
    {
     "data": {
      "text/html": [
       "<div>\n",
       "<style scoped>\n",
       "    .dataframe tbody tr th:only-of-type {\n",
       "        vertical-align: middle;\n",
       "    }\n",
       "\n",
       "    .dataframe tbody tr th {\n",
       "        vertical-align: top;\n",
       "    }\n",
       "\n",
       "    .dataframe thead th {\n",
       "        text-align: right;\n",
       "    }\n",
       "</style>\n",
       "<table border=\"1\" class=\"dataframe\">\n",
       "  <thead>\n",
       "    <tr style=\"text-align: right;\">\n",
       "      <th></th>\n",
       "      <th>pv</th>\n",
       "      <th>uv</th>\n",
       "    </tr>\n",
       "  </thead>\n",
       "  <tbody>\n",
       "    <tr>\n",
       "      <th>pv</th>\n",
       "      <td>1.000000</td>\n",
       "      <td>0.944041</td>\n",
       "    </tr>\n",
       "    <tr>\n",
       "      <th>uv</th>\n",
       "      <td>0.944041</td>\n",
       "      <td>1.000000</td>\n",
       "    </tr>\n",
       "  </tbody>\n",
       "</table>\n",
       "</div>"
      ],
      "text/plain": [
       "          pv        uv\n",
       "pv  1.000000  0.944041\n",
       "uv  0.944041  1.000000"
      ]
     },
     "execution_count": 24,
     "metadata": {},
     "output_type": "execute_result"
    }
   ],
   "source": [
    "#计算相关系数\n",
    "pv_uv_daily.corr(method='pearson')"
   ]
  },
  {
   "cell_type": "code",
   "execution_count": 25,
   "metadata": {
    "ExecuteTime": {
     "end_time": "2020-09-30T08:27:56.472113Z",
     "start_time": "2020-09-30T08:27:56.380045Z"
    }
   },
   "outputs": [
    {
     "data": {
      "text/html": [
       "<div>\n",
       "<style scoped>\n",
       "    .dataframe tbody tr th:only-of-type {\n",
       "        vertical-align: middle;\n",
       "    }\n",
       "\n",
       "    .dataframe tbody tr th {\n",
       "        vertical-align: top;\n",
       "    }\n",
       "\n",
       "    .dataframe thead th {\n",
       "        text-align: right;\n",
       "    }\n",
       "</style>\n",
       "<table border=\"1\" class=\"dataframe\">\n",
       "  <thead>\n",
       "    <tr style=\"text-align: right;\">\n",
       "      <th></th>\n",
       "      <th>pv</th>\n",
       "      <th>uv</th>\n",
       "    </tr>\n",
       "  </thead>\n",
       "  <tbody>\n",
       "    <tr>\n",
       "      <th>pv</th>\n",
       "      <td>1.00000</td>\n",
       "      <td>0.83698</td>\n",
       "    </tr>\n",
       "    <tr>\n",
       "      <th>uv</th>\n",
       "      <td>0.83698</td>\n",
       "      <td>1.00000</td>\n",
       "    </tr>\n",
       "  </tbody>\n",
       "</table>\n",
       "</div>"
      ],
      "text/plain": [
       "         pv       uv\n",
       "pv  1.00000  0.83698\n",
       "uv  0.83698  1.00000"
      ]
     },
     "execution_count": 25,
     "metadata": {},
     "output_type": "execute_result"
    }
   ],
   "source": [
    "pv_uv_daily.corr(method='spearman')"
   ]
  },
  {
   "cell_type": "markdown",
   "metadata": {},
   "source": [
    "可以看出访问量和访问用户数成正相关，相关性较强"
   ]
  },
  {
   "cell_type": "code",
   "execution_count": 26,
   "metadata": {
    "ExecuteTime": {
     "end_time": "2020-09-30T08:28:00.159254Z",
     "start_time": "2020-09-30T08:27:56.478115Z"
    }
   },
   "outputs": [
    {
     "data": {
      "image/png": "[encoded data removed]",
      "text/plain": [
       "<Figure size 1152x648 with 2 Axes>"
      ]
     },
     "metadata": {
      "needs_background": "light"
     },
     "output_type": "display_data"
    }
   ],
   "source": [
    "plt.figure(figsize=(16,9))\n",
    "plt.subplot(211)\n",
    "plt.plot(pv_daily,color='red')\n",
    "plt.title('每天访问量')\n",
    "plt.xticks(rotation=45)\n",
    "plt.subplot(212)\n",
    "plt.plot(uv_daily,color='green')\n",
    "plt.title('每天访客量')\n",
    "plt.suptitle('UV和PV变化趋势线')\n",
    "plt.xticks(rotation=45)\n",
    "plt.show()"
   ]
  },
  {
   "cell_type": "code",
   "execution_count": 27,
   "metadata": {
    "ExecuteTime": {
     "end_time": "2020-09-30T08:28:01.673124Z",
     "start_time": "2020-09-30T08:28:00.163833Z"
    }
   },
   "outputs": [
    {
     "data": {
      "image/png": "[encoded data removed]",
      "text/plain": [
       "<Figure size 1152x648 with 2 Axes>"
      ]
     },
     "metadata": {
      "needs_background": "light"
     },
     "output_type": "display_data"
    }
   ],
   "source": [
    "plt.figure(figsize=(16,9))\n",
    "pv_uv_daily['pv'].plot(label = '每天访问量',color = 'red')\n",
    "plt.legend(loc='upper right')\n",
    "pv_uv_daily['uv'].plot(label = '每天访客量',color = 'green',secondary_y=True)\n",
    "plt.title('UV和PV变化趋势线')\n",
    "plt.xticks(rotation=45)\n",
    "plt.legend(loc = 'upper center')\n",
    "plt.show()"
   ]
  },
  {
   "cell_type": "markdown",
   "metadata": {},
   "source": [
    "可以看出pv和uv差距比较大，都在双十二当天达到峰值"
   ]
  },
  {
   "cell_type": "code",
   "execution_count": 28,
   "metadata": {
    "ExecuteTime": {
     "end_time": "2020-09-30T08:28:05.000204Z",
     "start_time": "2020-09-30T08:28:01.678533Z"
    }
   },
   "outputs": [],
   "source": [
    "#对小时访问量进行分析\n",
    "pv_daiily_hour  = user_data.groupby('hour').count()['user_id']"
   ]
  },
  {
   "cell_type": "code",
   "execution_count": 29,
   "metadata": {
    "ExecuteTime": {
     "end_time": "2020-09-30T08:28:05.017206Z",
     "start_time": "2020-09-30T08:28:05.000204Z"
    }
   },
   "outputs": [
    {
     "data": {
      "text/plain": [
       "hour\n",
       "00    103496\n",
       "01     53789\n",
       "02     29256\n",
       "03     19524\n",
       "04     16055\n",
       "05     17704\n",
       "06     31693\n",
       "07     57435\n",
       "08     79192\n",
       "09     96790\n",
       "10    110606\n",
       "11    105614\n",
       "12    106927\n",
       "13    120100\n",
       "14    119551\n",
       "15    120020\n",
       "16    115070\n",
       "17    101017\n",
       "18    109042\n",
       "19    147457\n",
       "20    186478\n",
       "21    217254\n",
       "22    218057\n",
       "23    169254\n",
       "Name: user_id, dtype: int64"
      ]
     },
     "execution_count": 29,
     "metadata": {},
     "output_type": "execute_result"
    }
   ],
   "source": [
    "pv_daiily_hour"
   ]
  },
  {
   "cell_type": "code",
   "execution_count": 30,
   "metadata": {
    "ExecuteTime": {
     "end_time": "2020-09-30T08:28:06.480484Z",
     "start_time": "2020-09-30T08:28:05.022208Z"
    }
   },
   "outputs": [],
   "source": [
    "uv_daiily_hour  = user_data.groupby('hour')['user_id'].apply(lambda x : x.drop_duplicates().count())"
   ]
  },
  {
   "cell_type": "code",
   "execution_count": 31,
   "metadata": {
    "ExecuteTime": {
     "end_time": "2020-09-30T08:28:06.497323Z",
     "start_time": "2020-09-30T08:28:06.480484Z"
    }
   },
   "outputs": [
    {
     "data": {
      "text/plain": [
       "hour\n",
       "00    5237\n",
       "01    3344\n",
       "02    2176\n",
       "03    1635\n",
       "04    1471\n",
       "Name: user_id, dtype: int64"
      ]
     },
     "execution_count": 31,
     "metadata": {},
     "output_type": "execute_result"
    }
   ],
   "source": [
    "uv_daiily_hour.head()"
   ]
  },
  {
   "cell_type": "code",
   "execution_count": 32,
   "metadata": {
    "ExecuteTime": {
     "end_time": "2020-09-30T08:28:06.657250Z",
     "start_time": "2020-09-30T08:28:06.504328Z"
    }
   },
   "outputs": [],
   "source": [
    "pv_uv_hour = pd.concat([pv_daiily_hour,uv_daiily_hour],axis = 1)"
   ]
  },
  {
   "cell_type": "code",
   "execution_count": 33,
   "metadata": {
    "ExecuteTime": {
     "end_time": "2020-09-30T08:28:06.744312Z",
     "start_time": "2020-09-30T08:28:06.662252Z"
    }
   },
   "outputs": [
    {
     "data": {
      "text/html": [
       "<div>\n",
       "<style scoped>\n",
       "    .dataframe tbody tr th:only-of-type {\n",
       "        vertical-align: middle;\n",
       "    }\n",
       "\n",
       "    .dataframe tbody tr th {\n",
       "        vertical-align: top;\n",
       "    }\n",
       "\n",
       "    .dataframe thead th {\n",
       "        text-align: right;\n",
       "    }\n",
       "</style>\n",
       "<table border=\"1\" class=\"dataframe\">\n",
       "  <thead>\n",
       "    <tr style=\"text-align: right;\">\n",
       "      <th></th>\n",
       "      <th>user_id</th>\n",
       "      <th>user_id</th>\n",
       "    </tr>\n",
       "    <tr>\n",
       "      <th>hour</th>\n",
       "      <th></th>\n",
       "      <th></th>\n",
       "    </tr>\n",
       "  </thead>\n",
       "  <tbody>\n",
       "    <tr>\n",
       "      <th>00</th>\n",
       "      <td>103496</td>\n",
       "      <td>5237</td>\n",
       "    </tr>\n",
       "    <tr>\n",
       "      <th>01</th>\n",
       "      <td>53789</td>\n",
       "      <td>3344</td>\n",
       "    </tr>\n",
       "    <tr>\n",
       "      <th>02</th>\n",
       "      <td>29256</td>\n",
       "      <td>2176</td>\n",
       "    </tr>\n",
       "    <tr>\n",
       "      <th>03</th>\n",
       "      <td>19524</td>\n",
       "      <td>1635</td>\n",
       "    </tr>\n",
       "    <tr>\n",
       "      <th>04</th>\n",
       "      <td>16055</td>\n",
       "      <td>1471</td>\n",
       "    </tr>\n",
       "  </tbody>\n",
       "</table>\n",
       "</div>"
      ],
      "text/plain": [
       "      user_id  user_id\n",
       "hour                  \n",
       "00     103496     5237\n",
       "01      53789     3344\n",
       "02      29256     2176\n",
       "03      19524     1635\n",
       "04      16055     1471"
      ]
     },
     "execution_count": 33,
     "metadata": {},
     "output_type": "execute_result"
    }
   ],
   "source": [
    "pv_uv_hour.head()"
   ]
  },
  {
   "cell_type": "code",
   "execution_count": 34,
   "metadata": {
    "ExecuteTime": {
     "end_time": "2020-09-30T08:28:06.833373Z",
     "start_time": "2020-09-30T08:28:06.748315Z"
    }
   },
   "outputs": [],
   "source": [
    "# pv_uv_hour.rename(columns={'user_id':'pv','user_id':'uv'},inplace=True)\n",
    "pv_uv_hour.columns = ['pv','uv']\n"
   ]
  },
  {
   "cell_type": "code",
   "execution_count": 35,
   "metadata": {
    "ExecuteTime": {
     "end_time": "2020-09-30T08:28:07.025656Z",
     "start_time": "2020-09-30T08:28:06.838378Z"
    }
   },
   "outputs": [
    {
     "data": {
      "text/html": [
       "<div>\n",
       "<style scoped>\n",
       "    .dataframe tbody tr th:only-of-type {\n",
       "        vertical-align: middle;\n",
       "    }\n",
       "\n",
       "    .dataframe tbody tr th {\n",
       "        vertical-align: top;\n",
       "    }\n",
       "\n",
       "    .dataframe thead th {\n",
       "        text-align: right;\n",
       "    }\n",
       "</style>\n",
       "<table border=\"1\" class=\"dataframe\">\n",
       "  <thead>\n",
       "    <tr style=\"text-align: right;\">\n",
       "      <th></th>\n",
       "      <th>pv</th>\n",
       "      <th>uv</th>\n",
       "    </tr>\n",
       "    <tr>\n",
       "      <th>hour</th>\n",
       "      <th></th>\n",
       "      <th></th>\n",
       "    </tr>\n",
       "  </thead>\n",
       "  <tbody>\n",
       "    <tr>\n",
       "      <th>00</th>\n",
       "      <td>103496</td>\n",
       "      <td>5237</td>\n",
       "    </tr>\n",
       "    <tr>\n",
       "      <th>01</th>\n",
       "      <td>53789</td>\n",
       "      <td>3344</td>\n",
       "    </tr>\n",
       "    <tr>\n",
       "      <th>02</th>\n",
       "      <td>29256</td>\n",
       "      <td>2176</td>\n",
       "    </tr>\n",
       "    <tr>\n",
       "      <th>03</th>\n",
       "      <td>19524</td>\n",
       "      <td>1635</td>\n",
       "    </tr>\n",
       "    <tr>\n",
       "      <th>04</th>\n",
       "      <td>16055</td>\n",
       "      <td>1471</td>\n",
       "    </tr>\n",
       "  </tbody>\n",
       "</table>\n",
       "</div>"
      ],
      "text/plain": [
       "          pv    uv\n",
       "hour              \n",
       "00    103496  5237\n",
       "01     53789  3344\n",
       "02     29256  2176\n",
       "03     19524  1635\n",
       "04     16055  1471"
      ]
     },
     "execution_count": 35,
     "metadata": {},
     "output_type": "execute_result"
    }
   ],
   "source": [
    "pv_uv_hour.head()"
   ]
  },
  {
   "cell_type": "code",
   "execution_count": 36,
   "metadata": {
    "ExecuteTime": {
     "end_time": "2020-09-30T08:28:07.163070Z",
     "start_time": "2020-09-30T08:28:07.033662Z"
    }
   },
   "outputs": [
    {
     "data": {
      "text/html": [
       "<div>\n",
       "<style scoped>\n",
       "    .dataframe tbody tr th:only-of-type {\n",
       "        vertical-align: middle;\n",
       "    }\n",
       "\n",
       "    .dataframe tbody tr th {\n",
       "        vertical-align: top;\n",
       "    }\n",
       "\n",
       "    .dataframe thead th {\n",
       "        text-align: right;\n",
       "    }\n",
       "</style>\n",
       "<table border=\"1\" class=\"dataframe\">\n",
       "  <thead>\n",
       "    <tr style=\"text-align: right;\">\n",
       "      <th></th>\n",
       "      <th>pv</th>\n",
       "      <th>uv</th>\n",
       "    </tr>\n",
       "  </thead>\n",
       "  <tbody>\n",
       "    <tr>\n",
       "      <th>pv</th>\n",
       "      <td>1.000000</td>\n",
       "      <td>0.863731</td>\n",
       "    </tr>\n",
       "    <tr>\n",
       "      <th>uv</th>\n",
       "      <td>0.863731</td>\n",
       "      <td>1.000000</td>\n",
       "    </tr>\n",
       "  </tbody>\n",
       "</table>\n",
       "</div>"
      ],
      "text/plain": [
       "          pv        uv\n",
       "pv  1.000000  0.863731\n",
       "uv  0.863731  1.000000"
      ]
     },
     "execution_count": 36,
     "metadata": {},
     "output_type": "execute_result"
    }
   ],
   "source": [
    "#计算相关性\n",
    "pv_uv_hour.corr(method='pearson')"
   ]
  },
  {
   "cell_type": "code",
   "execution_count": 37,
   "metadata": {
    "ExecuteTime": {
     "end_time": "2020-09-30T08:28:07.322914Z",
     "start_time": "2020-09-30T08:28:07.168074Z"
    }
   },
   "outputs": [
    {
     "data": {
      "text/html": [
       "<div>\n",
       "<style scoped>\n",
       "    .dataframe tbody tr th:only-of-type {\n",
       "        vertical-align: middle;\n",
       "    }\n",
       "\n",
       "    .dataframe tbody tr th {\n",
       "        vertical-align: top;\n",
       "    }\n",
       "\n",
       "    .dataframe thead th {\n",
       "        text-align: right;\n",
       "    }\n",
       "</style>\n",
       "<table border=\"1\" class=\"dataframe\">\n",
       "  <thead>\n",
       "    <tr style=\"text-align: right;\">\n",
       "      <th></th>\n",
       "      <th>pv</th>\n",
       "      <th>uv</th>\n",
       "    </tr>\n",
       "  </thead>\n",
       "  <tbody>\n",
       "    <tr>\n",
       "      <th>pv</th>\n",
       "      <td>1.000000</td>\n",
       "      <td>0.913913</td>\n",
       "    </tr>\n",
       "    <tr>\n",
       "      <th>uv</th>\n",
       "      <td>0.913913</td>\n",
       "      <td>1.000000</td>\n",
       "    </tr>\n",
       "  </tbody>\n",
       "</table>\n",
       "</div>"
      ],
      "text/plain": [
       "          pv        uv\n",
       "pv  1.000000  0.913913\n",
       "uv  0.913913  1.000000"
      ]
     },
     "execution_count": 37,
     "metadata": {},
     "output_type": "execute_result"
    }
   ],
   "source": [
    "pv_uv_hour.corr(method='spearman')"
   ]
  },
  {
   "cell_type": "code",
   "execution_count": 38,
   "metadata": {
    "ExecuteTime": {
     "end_time": "2020-09-30T08:28:08.702281Z",
     "start_time": "2020-09-30T08:28:07.327917Z"
    }
   },
   "outputs": [
    {
     "data": {
      "image/png": "[encoded data removed]",
      "text/plain": [
       "<Figure size 1152x648 with 2 Axes>"
      ]
     },
     "metadata": {
      "needs_background": "light"
     },
     "output_type": "display_data"
    }
   ],
   "source": [
    "#绘图\n",
    "plt.figure(figsize=(16,9))\n",
    "# plt.subplot(211)\n",
    "pv_uv_hour['pv'].plot(color='red',label='每个小时访问量')\n",
    "plt.ylabel('访问量')\n",
    "plt.legend(loc = 'upper left')\n",
    "# plt.title('每天访问量')\n",
    "pv_uv_hour['uv'].plot(color = 'steelblue',label = '每个小时不同用户访问量',secondary_y = True)\n",
    "plt.ylabel('访问用户数')\n",
    "plt.legend(loc = 'upper center')\n",
    "plt.xticks(range(0,24),pv_uv_hour.index)\n",
    "\n",
    "\n",
    "\n",
    "# plt.xticks(rotation=45)\n",
    "# plt.subplot(212)\n",
    "# plt.plot(uv_daily,color='green')\n",
    "# plt.title('每天访客量')\n",
    "# plt.suptitle('UV和PV变化趋势线')\n",
    "# plt.xticks(rotation=45)\n",
    "# plt.grid(True)\n",
    "plt.show()"
   ]
  },
  {
   "cell_type": "code",
   "execution_count": 39,
   "metadata": {
    "ExecuteTime": {
     "end_time": "2020-09-30T08:28:08.711122Z",
     "start_time": "2020-09-30T08:28:08.702281Z"
    }
   },
   "outputs": [],
   "source": [
    "# plt.figure(figsize=(16,9))\n",
    "# # plt.yticks(secondary_y = True)\n",
    "# plt.ylabel('访问量')\n",
    "# sns.lineplot(data = pv_uv_hour)"
   ]
  },
  {
   "cell_type": "markdown",
   "metadata": {
    "ExecuteTime": {
     "end_time": "2020-03-26T04:13:42.472917Z",
     "start_time": "2020-03-26T04:13:42.409854Z"
    }
   },
   "source": [
    "可以看出，pv和uv在凌晨0到5点都呈现下降趋势，在晚间8点到22点用户访问达到峰值"
   ]
  },
  {
   "cell_type": "code",
   "execution_count": 40,
   "metadata": {
    "ExecuteTime": {
     "end_time": "2020-09-30T08:28:10.590509Z",
     "start_time": "2020-09-30T08:28:08.717128Z"
    }
   },
   "outputs": [],
   "source": [
    "#不同行为用户，pv,uv分析，使用透视图\n",
    "pv_detail  = pd.pivot_table(columns='behavior_type',index = 'hour',data = user_data,values = 'user_id',aggfunc=np.size)"
   ]
  },
  {
   "cell_type": "code",
   "execution_count": 41,
   "metadata": {
    "ExecuteTime": {
     "end_time": "2020-09-30T08:28:10.614676Z",
     "start_time": "2020-09-30T08:28:10.590509Z"
    }
   },
   "outputs": [
    {
     "data": {
      "text/html": [
       "<div>\n",
       "<style scoped>\n",
       "    .dataframe tbody tr th:only-of-type {\n",
       "        vertical-align: middle;\n",
       "    }\n",
       "\n",
       "    .dataframe tbody tr th {\n",
       "        vertical-align: top;\n",
       "    }\n",
       "\n",
       "    .dataframe thead th {\n",
       "        text-align: right;\n",
       "    }\n",
       "</style>\n",
       "<table border=\"1\" class=\"dataframe\">\n",
       "  <thead>\n",
       "    <tr style=\"text-align: right;\">\n",
       "      <th>behavior_type</th>\n",
       "      <th>1</th>\n",
       "      <th>2</th>\n",
       "      <th>3</th>\n",
       "      <th>4</th>\n",
       "    </tr>\n",
       "    <tr>\n",
       "      <th>hour</th>\n",
       "      <th></th>\n",
       "      <th></th>\n",
       "      <th></th>\n",
       "      <th></th>\n",
       "    </tr>\n",
       "  </thead>\n",
       "  <tbody>\n",
       "    <tr>\n",
       "      <th>00</th>\n",
       "      <td>97460</td>\n",
       "      <td>2243</td>\n",
       "      <td>2828</td>\n",
       "      <td>965</td>\n",
       "    </tr>\n",
       "    <tr>\n",
       "      <th>01</th>\n",
       "      <td>50794</td>\n",
       "      <td>1349</td>\n",
       "      <td>1336</td>\n",
       "      <td>310</td>\n",
       "    </tr>\n",
       "    <tr>\n",
       "      <th>02</th>\n",
       "      <td>27679</td>\n",
       "      <td>652</td>\n",
       "      <td>770</td>\n",
       "      <td>155</td>\n",
       "    </tr>\n",
       "    <tr>\n",
       "      <th>03</th>\n",
       "      <td>18472</td>\n",
       "      <td>460</td>\n",
       "      <td>491</td>\n",
       "      <td>101</td>\n",
       "    </tr>\n",
       "    <tr>\n",
       "      <th>04</th>\n",
       "      <td>15079</td>\n",
       "      <td>428</td>\n",
       "      <td>479</td>\n",
       "      <td>69</td>\n",
       "    </tr>\n",
       "    <tr>\n",
       "      <th>05</th>\n",
       "      <td>16760</td>\n",
       "      <td>412</td>\n",
       "      <td>452</td>\n",
       "      <td>80</td>\n",
       "    </tr>\n",
       "    <tr>\n",
       "      <th>06</th>\n",
       "      <td>29949</td>\n",
       "      <td>766</td>\n",
       "      <td>792</td>\n",
       "      <td>186</td>\n",
       "    </tr>\n",
       "    <tr>\n",
       "      <th>07</th>\n",
       "      <td>54466</td>\n",
       "      <td>1133</td>\n",
       "      <td>1448</td>\n",
       "      <td>388</td>\n",
       "    </tr>\n",
       "    <tr>\n",
       "      <th>08</th>\n",
       "      <td>74951</td>\n",
       "      <td>1544</td>\n",
       "      <td>1994</td>\n",
       "      <td>703</td>\n",
       "    </tr>\n",
       "    <tr>\n",
       "      <th>09</th>\n",
       "      <td>90925</td>\n",
       "      <td>2083</td>\n",
       "      <td>2626</td>\n",
       "      <td>1156</td>\n",
       "    </tr>\n",
       "    <tr>\n",
       "      <th>10</th>\n",
       "      <td>103604</td>\n",
       "      <td>2231</td>\n",
       "      <td>3267</td>\n",
       "      <td>1504</td>\n",
       "    </tr>\n",
       "    <tr>\n",
       "      <th>11</th>\n",
       "      <td>99061</td>\n",
       "      <td>2132</td>\n",
       "      <td>3021</td>\n",
       "      <td>1400</td>\n",
       "    </tr>\n",
       "    <tr>\n",
       "      <th>12</th>\n",
       "      <td>100438</td>\n",
       "      <td>2071</td>\n",
       "      <td>3024</td>\n",
       "      <td>1394</td>\n",
       "    </tr>\n",
       "    <tr>\n",
       "      <th>13</th>\n",
       "      <td>112755</td>\n",
       "      <td>2360</td>\n",
       "      <td>3422</td>\n",
       "      <td>1563</td>\n",
       "    </tr>\n",
       "    <tr>\n",
       "      <th>14</th>\n",
       "      <td>112331</td>\n",
       "      <td>2364</td>\n",
       "      <td>3388</td>\n",
       "      <td>1468</td>\n",
       "    </tr>\n",
       "    <tr>\n",
       "      <th>15</th>\n",
       "      <td>112699</td>\n",
       "      <td>2399</td>\n",
       "      <td>3441</td>\n",
       "      <td>1481</td>\n",
       "    </tr>\n",
       "    <tr>\n",
       "      <th>16</th>\n",
       "      <td>108113</td>\n",
       "      <td>2293</td>\n",
       "      <td>3299</td>\n",
       "      <td>1365</td>\n",
       "    </tr>\n",
       "    <tr>\n",
       "      <th>17</th>\n",
       "      <td>95014</td>\n",
       "      <td>1980</td>\n",
       "      <td>2945</td>\n",
       "      <td>1078</td>\n",
       "    </tr>\n",
       "    <tr>\n",
       "      <th>18</th>\n",
       "      <td>103021</td>\n",
       "      <td>2053</td>\n",
       "      <td>2991</td>\n",
       "      <td>977</td>\n",
       "    </tr>\n",
       "    <tr>\n",
       "      <th>19</th>\n",
       "      <td>139580</td>\n",
       "      <td>2824</td>\n",
       "      <td>3783</td>\n",
       "      <td>1270</td>\n",
       "    </tr>\n",
       "    <tr>\n",
       "      <th>20</th>\n",
       "      <td>176643</td>\n",
       "      <td>3309</td>\n",
       "      <td>4952</td>\n",
       "      <td>1574</td>\n",
       "    </tr>\n",
       "    <tr>\n",
       "      <th>21</th>\n",
       "      <td>205474</td>\n",
       "      <td>4079</td>\n",
       "      <td>5963</td>\n",
       "      <td>1738</td>\n",
       "    </tr>\n",
       "    <tr>\n",
       "      <th>22</th>\n",
       "      <td>205698</td>\n",
       "      <td>4046</td>\n",
       "      <td>6535</td>\n",
       "      <td>1778</td>\n",
       "    </tr>\n",
       "    <tr>\n",
       "      <th>23</th>\n",
       "      <td>158943</td>\n",
       "      <td>3623</td>\n",
       "      <td>5442</td>\n",
       "      <td>1246</td>\n",
       "    </tr>\n",
       "  </tbody>\n",
       "</table>\n",
       "</div>"
      ],
      "text/plain": [
       "behavior_type       1     2     3     4\n",
       "hour                                   \n",
       "00              97460  2243  2828   965\n",
       "01              50794  1349  1336   310\n",
       "02              27679   652   770   155\n",
       "03              18472   460   491   101\n",
       "04              15079   428   479    69\n",
       "05              16760   412   452    80\n",
       "06              29949   766   792   186\n",
       "07              54466  1133  1448   388\n",
       "08              74951  1544  1994   703\n",
       "09              90925  2083  2626  1156\n",
       "10             103604  2231  3267  1504\n",
       "11              99061  2132  3021  1400\n",
       "12             100438  2071  3024  1394\n",
       "13             112755  2360  3422  1563\n",
       "14             112331  2364  3388  1468\n",
       "15             112699  2399  3441  1481\n",
       "16             108113  2293  3299  1365\n",
       "17              95014  1980  2945  1078\n",
       "18             103021  2053  2991   977\n",
       "19             139580  2824  3783  1270\n",
       "20             176643  3309  4952  1574\n",
       "21             205474  4079  5963  1738\n",
       "22             205698  4046  6535  1778\n",
       "23             158943  3623  5442  1246"
      ]
     },
     "execution_count": 41,
     "metadata": {},
     "output_type": "execute_result"
    }
   ],
   "source": [
    "pv_detail#不同行为每个小时访问量"
   ]
  },
  {
   "cell_type": "code",
   "execution_count": 42,
   "metadata": {
    "ExecuteTime": {
     "end_time": "2020-09-30T08:28:11.806867Z",
     "start_time": "2020-09-30T08:28:10.618679Z"
    }
   },
   "outputs": [
    {
     "data": {
      "image/png": "[encoded data removed]",
      "text/plain": [
       "<Figure size 1152x648 with 1 Axes>"
      ]
     },
     "metadata": {
      "needs_background": "light"
     },
     "output_type": "display_data"
    }
   ],
   "source": [
    "plt.figure(figsize=(16,9))\n",
    "sns.lineplot(data = pv_detail.iloc[:,1:])#查看2,3,4\n",
    "plt.show()"
   ]
  },
  {
   "cell_type": "markdown",
   "metadata": {},
   "source": [
    "可以看出，点击的访问量最多，加购物车量超过点击收藏量，购买的量最少"
   ]
  },
  {
   "cell_type": "markdown",
   "metadata": {},
   "source": [
    "### ARPU，ARPPU分析"
   ]
  },
  {
   "cell_type": "code",
   "execution_count": 43,
   "metadata": {
    "ExecuteTime": {
     "end_time": "2020-09-30T08:28:11.825879Z",
     "start_time": "2020-09-30T08:28:11.811871Z"
    },
    "scrolled": true
   },
   "outputs": [
    {
     "name": "stdout",
     "output_type": "stream",
     "text": [
      "<class 'pandas.core.frame.DataFrame'>\n",
      "Int64Index: 2451381 entries, 3588708 to 11381945\n",
      "Data columns (total 8 columns):\n",
      "user_id          object\n",
      "item_id          object\n",
      "behavior_type    object\n",
      "user_geohash     object\n",
      "item_category    object\n",
      "time             object\n",
      "date             object\n",
      "hour             object\n",
      "dtypes: object(8)\n",
      "memory usage: 168.3+ MB\n"
     ]
    }
   ],
   "source": [
    "#分析支付的用户\n",
    "user_data.info()"
   ]
  },
  {
   "cell_type": "code",
   "execution_count": 44,
   "metadata": {
    "ExecuteTime": {
     "end_time": "2020-09-30T08:28:12.328685Z",
     "start_time": "2020-09-30T08:28:11.830886Z"
    }
   },
   "outputs": [],
   "source": [
    "user_buy = user_data[user_data['behavior_type'] == '4'].groupby('user_id')['behavior_type'].count()"
   ]
  },
  {
   "cell_type": "code",
   "execution_count": 45,
   "metadata": {
    "ExecuteTime": {
     "end_time": "2020-09-30T08:28:12.383700Z",
     "start_time": "2020-09-30T08:28:12.331648Z"
    },
    "scrolled": true
   },
   "outputs": [
    {
     "data": {
      "text/plain": [
       "user_id\n",
       "100001878    7\n",
       "100011562    1\n",
       "100012968    3\n",
       "100014060    5\n",
       "100024529    6\n",
       "Name: behavior_type, dtype: int64"
      ]
     },
     "execution_count": 45,
     "metadata": {},
     "output_type": "execute_result"
    }
   ],
   "source": [
    "user_buy.head()#每个用户下单的数量"
   ]
  },
  {
   "cell_type": "code",
   "execution_count": 46,
   "metadata": {
    "ExecuteTime": {
     "end_time": "2020-09-30T08:28:12.699979Z",
     "start_time": "2020-09-30T08:28:12.388702Z"
    }
   },
   "outputs": [
    {
     "data": {
      "text/plain": [
       "count    6631.000000\n",
       "mean        3.611672\n",
       "std         4.477580\n",
       "min         1.000000\n",
       "25%         1.000000\n",
       "50%         2.000000\n",
       "75%         4.000000\n",
       "max       155.000000\n",
       "Name: behavior_type, dtype: float64"
      ]
     },
     "execution_count": 46,
     "metadata": {},
     "output_type": "execute_result"
    }
   ],
   "source": [
    "user_buy.describe()"
   ]
  },
  {
   "cell_type": "code",
   "execution_count": 47,
   "metadata": {
    "ExecuteTime": {
     "end_time": "2020-09-30T08:28:13.316299Z",
     "start_time": "2020-09-30T08:28:12.709957Z"
    }
   },
   "outputs": [
    {
     "data": {
      "image/png": "[encoded data removed]",
      "text/plain": [
       "<Figure size 432x288 with 1 Axes>"
      ]
     },
     "metadata": {
      "needs_background": "light"
     },
     "output_type": "display_data"
    }
   ],
   "source": [
    "user_buy.plot(kind = 'hist')\n",
    "plt.show()"
   ]
  },
  {
   "cell_type": "code",
   "execution_count": 48,
   "metadata": {
    "ExecuteTime": {
     "end_time": "2020-09-30T08:28:13.833664Z",
     "start_time": "2020-09-30T08:28:13.320302Z"
    }
   },
   "outputs": [],
   "source": [
    "#日ARPPU ：从每位付费用户身上获得的收入，反映每个付费用户的平均付费额度，计算=总收入/活跃用户付费数量，没有消费金额用消费次数代替\n",
    "user_buy_all = user_data[user_data['behavior_type'] == '4'].groupby(['user_id','date']).count()['behavior_type']\n"
   ]
  },
  {
   "cell_type": "code",
   "execution_count": 49,
   "metadata": {
    "ExecuteTime": {
     "end_time": "2020-09-30T08:28:13.875956Z",
     "start_time": "2020-09-30T08:28:13.837669Z"
    }
   },
   "outputs": [],
   "source": [
    "user_buy_all = user_buy_all.reset_index().rename(columns = {'behavior_type':'total'})"
   ]
  },
  {
   "cell_type": "code",
   "execution_count": 50,
   "metadata": {
    "ExecuteTime": {
     "end_time": "2020-09-30T08:28:14.040965Z",
     "start_time": "2020-09-30T08:28:13.878962Z"
    }
   },
   "outputs": [
    {
     "data": {
      "text/html": [
       "<div>\n",
       "<style scoped>\n",
       "    .dataframe tbody tr th:only-of-type {\n",
       "        vertical-align: middle;\n",
       "    }\n",
       "\n",
       "    .dataframe tbody tr th {\n",
       "        vertical-align: top;\n",
       "    }\n",
       "\n",
       "    .dataframe thead th {\n",
       "        text-align: right;\n",
       "    }\n",
       "</style>\n",
       "<table border=\"1\" class=\"dataframe\">\n",
       "  <thead>\n",
       "    <tr style=\"text-align: right;\">\n",
       "      <th></th>\n",
       "      <th>user_id</th>\n",
       "      <th>date</th>\n",
       "      <th>total</th>\n",
       "    </tr>\n",
       "  </thead>\n",
       "  <tbody>\n",
       "    <tr>\n",
       "      <th>0</th>\n",
       "      <td>100001878</td>\n",
       "      <td>2014-11-18</td>\n",
       "      <td>1</td>\n",
       "    </tr>\n",
       "    <tr>\n",
       "      <th>1</th>\n",
       "      <td>100001878</td>\n",
       "      <td>2014-11-24</td>\n",
       "      <td>2</td>\n",
       "    </tr>\n",
       "    <tr>\n",
       "      <th>2</th>\n",
       "      <td>100001878</td>\n",
       "      <td>2014-11-26</td>\n",
       "      <td>1</td>\n",
       "    </tr>\n",
       "    <tr>\n",
       "      <th>3</th>\n",
       "      <td>100001878</td>\n",
       "      <td>2014-12-04</td>\n",
       "      <td>1</td>\n",
       "    </tr>\n",
       "    <tr>\n",
       "      <th>4</th>\n",
       "      <td>100001878</td>\n",
       "      <td>2014-12-08</td>\n",
       "      <td>1</td>\n",
       "    </tr>\n",
       "    <tr>\n",
       "      <th>5</th>\n",
       "      <td>100001878</td>\n",
       "      <td>2014-12-15</td>\n",
       "      <td>1</td>\n",
       "    </tr>\n",
       "    <tr>\n",
       "      <th>6</th>\n",
       "      <td>100011562</td>\n",
       "      <td>2014-12-12</td>\n",
       "      <td>1</td>\n",
       "    </tr>\n",
       "    <tr>\n",
       "      <th>7</th>\n",
       "      <td>100012968</td>\n",
       "      <td>2014-11-26</td>\n",
       "      <td>1</td>\n",
       "    </tr>\n",
       "    <tr>\n",
       "      <th>8</th>\n",
       "      <td>100012968</td>\n",
       "      <td>2014-11-28</td>\n",
       "      <td>1</td>\n",
       "    </tr>\n",
       "    <tr>\n",
       "      <th>9</th>\n",
       "      <td>100012968</td>\n",
       "      <td>2014-12-03</td>\n",
       "      <td>1</td>\n",
       "    </tr>\n",
       "    <tr>\n",
       "      <th>10</th>\n",
       "      <td>100014060</td>\n",
       "      <td>2014-11-18</td>\n",
       "      <td>1</td>\n",
       "    </tr>\n",
       "    <tr>\n",
       "      <th>11</th>\n",
       "      <td>100014060</td>\n",
       "      <td>2014-11-20</td>\n",
       "      <td>1</td>\n",
       "    </tr>\n",
       "    <tr>\n",
       "      <th>12</th>\n",
       "      <td>100014060</td>\n",
       "      <td>2014-11-27</td>\n",
       "      <td>1</td>\n",
       "    </tr>\n",
       "    <tr>\n",
       "      <th>13</th>\n",
       "      <td>100014060</td>\n",
       "      <td>2014-12-08</td>\n",
       "      <td>1</td>\n",
       "    </tr>\n",
       "    <tr>\n",
       "      <th>14</th>\n",
       "      <td>100014060</td>\n",
       "      <td>2014-12-16</td>\n",
       "      <td>1</td>\n",
       "    </tr>\n",
       "    <tr>\n",
       "      <th>15</th>\n",
       "      <td>100024529</td>\n",
       "      <td>2014-11-18</td>\n",
       "      <td>3</td>\n",
       "    </tr>\n",
       "    <tr>\n",
       "      <th>16</th>\n",
       "      <td>100024529</td>\n",
       "      <td>2014-11-25</td>\n",
       "      <td>1</td>\n",
       "    </tr>\n",
       "    <tr>\n",
       "      <th>17</th>\n",
       "      <td>100024529</td>\n",
       "      <td>2014-11-30</td>\n",
       "      <td>1</td>\n",
       "    </tr>\n",
       "    <tr>\n",
       "      <th>18</th>\n",
       "      <td>100024529</td>\n",
       "      <td>2014-12-16</td>\n",
       "      <td>1</td>\n",
       "    </tr>\n",
       "    <tr>\n",
       "      <th>19</th>\n",
       "      <td>100027681</td>\n",
       "      <td>2014-11-21</td>\n",
       "      <td>2</td>\n",
       "    </tr>\n",
       "    <tr>\n",
       "      <th>20</th>\n",
       "      <td>100027681</td>\n",
       "      <td>2014-11-22</td>\n",
       "      <td>1</td>\n",
       "    </tr>\n",
       "    <tr>\n",
       "      <th>21</th>\n",
       "      <td>100027681</td>\n",
       "      <td>2014-11-23</td>\n",
       "      <td>1</td>\n",
       "    </tr>\n",
       "    <tr>\n",
       "      <th>22</th>\n",
       "      <td>100027681</td>\n",
       "      <td>2014-11-24</td>\n",
       "      <td>1</td>\n",
       "    </tr>\n",
       "    <tr>\n",
       "      <th>23</th>\n",
       "      <td>100027681</td>\n",
       "      <td>2014-11-28</td>\n",
       "      <td>1</td>\n",
       "    </tr>\n",
       "    <tr>\n",
       "      <th>24</th>\n",
       "      <td>100027681</td>\n",
       "      <td>2014-12-02</td>\n",
       "      <td>1</td>\n",
       "    </tr>\n",
       "    <tr>\n",
       "      <th>25</th>\n",
       "      <td>100027681</td>\n",
       "      <td>2014-12-11</td>\n",
       "      <td>1</td>\n",
       "    </tr>\n",
       "    <tr>\n",
       "      <th>26</th>\n",
       "      <td>100035725</td>\n",
       "      <td>2014-11-19</td>\n",
       "      <td>1</td>\n",
       "    </tr>\n",
       "    <tr>\n",
       "      <th>27</th>\n",
       "      <td>100042340</td>\n",
       "      <td>2014-12-18</td>\n",
       "      <td>1</td>\n",
       "    </tr>\n",
       "    <tr>\n",
       "      <th>28</th>\n",
       "      <td>10004287</td>\n",
       "      <td>2014-11-27</td>\n",
       "      <td>2</td>\n",
       "    </tr>\n",
       "    <tr>\n",
       "      <th>29</th>\n",
       "      <td>10004287</td>\n",
       "      <td>2014-11-30</td>\n",
       "      <td>2</td>\n",
       "    </tr>\n",
       "    <tr>\n",
       "      <th>...</th>\n",
       "      <td>...</td>\n",
       "      <td>...</td>\n",
       "      <td>...</td>\n",
       "    </tr>\n",
       "    <tr>\n",
       "      <th>16961</th>\n",
       "      <td>99796276</td>\n",
       "      <td>2014-12-16</td>\n",
       "      <td>1</td>\n",
       "    </tr>\n",
       "    <tr>\n",
       "      <th>16962</th>\n",
       "      <td>99796276</td>\n",
       "      <td>2014-12-17</td>\n",
       "      <td>1</td>\n",
       "    </tr>\n",
       "    <tr>\n",
       "      <th>16963</th>\n",
       "      <td>99796276</td>\n",
       "      <td>2014-12-18</td>\n",
       "      <td>5</td>\n",
       "    </tr>\n",
       "    <tr>\n",
       "      <th>16964</th>\n",
       "      <td>99851929</td>\n",
       "      <td>2014-11-19</td>\n",
       "      <td>1</td>\n",
       "    </tr>\n",
       "    <tr>\n",
       "      <th>16965</th>\n",
       "      <td>99856680</td>\n",
       "      <td>2014-12-01</td>\n",
       "      <td>1</td>\n",
       "    </tr>\n",
       "    <tr>\n",
       "      <th>16966</th>\n",
       "      <td>99877834</td>\n",
       "      <td>2014-11-23</td>\n",
       "      <td>1</td>\n",
       "    </tr>\n",
       "    <tr>\n",
       "      <th>16967</th>\n",
       "      <td>99877834</td>\n",
       "      <td>2014-12-15</td>\n",
       "      <td>1</td>\n",
       "    </tr>\n",
       "    <tr>\n",
       "      <th>16968</th>\n",
       "      <td>99891846</td>\n",
       "      <td>2014-12-17</td>\n",
       "      <td>1</td>\n",
       "    </tr>\n",
       "    <tr>\n",
       "      <th>16969</th>\n",
       "      <td>99900937</td>\n",
       "      <td>2014-11-18</td>\n",
       "      <td>1</td>\n",
       "    </tr>\n",
       "    <tr>\n",
       "      <th>16970</th>\n",
       "      <td>99900937</td>\n",
       "      <td>2014-11-22</td>\n",
       "      <td>1</td>\n",
       "    </tr>\n",
       "    <tr>\n",
       "      <th>16971</th>\n",
       "      <td>99900937</td>\n",
       "      <td>2014-11-25</td>\n",
       "      <td>2</td>\n",
       "    </tr>\n",
       "    <tr>\n",
       "      <th>16972</th>\n",
       "      <td>99900937</td>\n",
       "      <td>2014-11-26</td>\n",
       "      <td>1</td>\n",
       "    </tr>\n",
       "    <tr>\n",
       "      <th>16973</th>\n",
       "      <td>99900937</td>\n",
       "      <td>2014-11-30</td>\n",
       "      <td>1</td>\n",
       "    </tr>\n",
       "    <tr>\n",
       "      <th>16974</th>\n",
       "      <td>99900937</td>\n",
       "      <td>2014-12-01</td>\n",
       "      <td>2</td>\n",
       "    </tr>\n",
       "    <tr>\n",
       "      <th>16975</th>\n",
       "      <td>99900937</td>\n",
       "      <td>2014-12-13</td>\n",
       "      <td>1</td>\n",
       "    </tr>\n",
       "    <tr>\n",
       "      <th>16976</th>\n",
       "      <td>99900937</td>\n",
       "      <td>2014-12-17</td>\n",
       "      <td>1</td>\n",
       "    </tr>\n",
       "    <tr>\n",
       "      <th>16977</th>\n",
       "      <td>99926967</td>\n",
       "      <td>2014-11-20</td>\n",
       "      <td>1</td>\n",
       "    </tr>\n",
       "    <tr>\n",
       "      <th>16978</th>\n",
       "      <td>99926967</td>\n",
       "      <td>2014-11-27</td>\n",
       "      <td>1</td>\n",
       "    </tr>\n",
       "    <tr>\n",
       "      <th>16979</th>\n",
       "      <td>99926967</td>\n",
       "      <td>2014-12-04</td>\n",
       "      <td>1</td>\n",
       "    </tr>\n",
       "    <tr>\n",
       "      <th>16980</th>\n",
       "      <td>99926967</td>\n",
       "      <td>2014-12-06</td>\n",
       "      <td>1</td>\n",
       "    </tr>\n",
       "    <tr>\n",
       "      <th>16981</th>\n",
       "      <td>9996155</td>\n",
       "      <td>2014-12-06</td>\n",
       "      <td>1</td>\n",
       "    </tr>\n",
       "    <tr>\n",
       "      <th>16982</th>\n",
       "      <td>99963140</td>\n",
       "      <td>2014-11-21</td>\n",
       "      <td>1</td>\n",
       "    </tr>\n",
       "    <tr>\n",
       "      <th>16983</th>\n",
       "      <td>99963140</td>\n",
       "      <td>2014-11-25</td>\n",
       "      <td>1</td>\n",
       "    </tr>\n",
       "    <tr>\n",
       "      <th>16984</th>\n",
       "      <td>99963140</td>\n",
       "      <td>2014-11-26</td>\n",
       "      <td>1</td>\n",
       "    </tr>\n",
       "    <tr>\n",
       "      <th>16985</th>\n",
       "      <td>99968428</td>\n",
       "      <td>2014-11-27</td>\n",
       "      <td>1</td>\n",
       "    </tr>\n",
       "    <tr>\n",
       "      <th>16986</th>\n",
       "      <td>99968428</td>\n",
       "      <td>2014-12-01</td>\n",
       "      <td>4</td>\n",
       "    </tr>\n",
       "    <tr>\n",
       "      <th>16987</th>\n",
       "      <td>99968428</td>\n",
       "      <td>2014-12-02</td>\n",
       "      <td>1</td>\n",
       "    </tr>\n",
       "    <tr>\n",
       "      <th>16988</th>\n",
       "      <td>99968428</td>\n",
       "      <td>2014-12-14</td>\n",
       "      <td>1</td>\n",
       "    </tr>\n",
       "    <tr>\n",
       "      <th>16989</th>\n",
       "      <td>99989881</td>\n",
       "      <td>2014-11-30</td>\n",
       "      <td>1</td>\n",
       "    </tr>\n",
       "    <tr>\n",
       "      <th>16990</th>\n",
       "      <td>99989881</td>\n",
       "      <td>2014-12-09</td>\n",
       "      <td>1</td>\n",
       "    </tr>\n",
       "  </tbody>\n",
       "</table>\n",
       "<p>16991 rows × 3 columns</p>\n",
       "</div>"
      ],
      "text/plain": [
       "         user_id        date  total\n",
       "0      100001878  2014-11-18      1\n",
       "1      100001878  2014-11-24      2\n",
       "2      100001878  2014-11-26      1\n",
       "3      100001878  2014-12-04      1\n",
       "4      100001878  2014-12-08      1\n",
       "5      100001878  2014-12-15      1\n",
       "6      100011562  2014-12-12      1\n",
       "7      100012968  2014-11-26      1\n",
       "8      100012968  2014-11-28      1\n",
       "9      100012968  2014-12-03      1\n",
       "10     100014060  2014-11-18      1\n",
       "11     100014060  2014-11-20      1\n",
       "12     100014060  2014-11-27      1\n",
       "13     100014060  2014-12-08      1\n",
       "14     100014060  2014-12-16      1\n",
       "15     100024529  2014-11-18      3\n",
       "16     100024529  2014-11-25      1\n",
       "17     100024529  2014-11-30      1\n",
       "18     100024529  2014-12-16      1\n",
       "19     100027681  2014-11-21      2\n",
       "20     100027681  2014-11-22      1\n",
       "21     100027681  2014-11-23      1\n",
       "22     100027681  2014-11-24      1\n",
       "23     100027681  2014-11-28      1\n",
       "24     100027681  2014-12-02      1\n",
       "25     100027681  2014-12-11      1\n",
       "26     100035725  2014-11-19      1\n",
       "27     100042340  2014-12-18      1\n",
       "28      10004287  2014-11-27      2\n",
       "29      10004287  2014-11-30      2\n",
       "...          ...         ...    ...\n",
       "16961   99796276  2014-12-16      1\n",
       "16962   99796276  2014-12-17      1\n",
       "16963   99796276  2014-12-18      5\n",
       "16964   99851929  2014-11-19      1\n",
       "16965   99856680  2014-12-01      1\n",
       "16966   99877834  2014-11-23      1\n",
       "16967   99877834  2014-12-15      1\n",
       "16968   99891846  2014-12-17      1\n",
       "16969   99900937  2014-11-18      1\n",
       "16970   99900937  2014-11-22      1\n",
       "16971   99900937  2014-11-25      2\n",
       "16972   99900937  2014-11-26      1\n",
       "16973   99900937  2014-11-30      1\n",
       "16974   99900937  2014-12-01      2\n",
       "16975   99900937  2014-12-13      1\n",
       "16976   99900937  2014-12-17      1\n",
       "16977   99926967  2014-11-20      1\n",
       "16978   99926967  2014-11-27      1\n",
       "16979   99926967  2014-12-04      1\n",
       "16980   99926967  2014-12-06      1\n",
       "16981    9996155  2014-12-06      1\n",
       "16982   99963140  2014-11-21      1\n",
       "16983   99963140  2014-11-25      1\n",
       "16984   99963140  2014-11-26      1\n",
       "16985   99968428  2014-11-27      1\n",
       "16986   99968428  2014-12-01      4\n",
       "16987   99968428  2014-12-02      1\n",
       "16988   99968428  2014-12-14      1\n",
       "16989   99989881  2014-11-30      1\n",
       "16990   99989881  2014-12-09      1\n",
       "\n",
       "[16991 rows x 3 columns]"
      ]
     },
     "execution_count": 50,
     "metadata": {},
     "output_type": "execute_result"
    }
   ],
   "source": [
    "user_buy_all.head()"
   ]
  },
  {
   "cell_type": "code",
   "execution_count": 51,
   "metadata": {
    "ExecuteTime": {
     "end_time": "2020-09-30T08:28:14.858758Z",
     "start_time": "2020-09-30T08:28:14.045966Z"
    }
   },
   "outputs": [],
   "source": [
    "user_buy_all1 = user_buy_all.groupby('date').sum()['total']/user_buy_all.groupby('date').count()['total']"
   ]
  },
  {
   "cell_type": "code",
   "execution_count": 89,
   "metadata": {
    "ExecuteTime": {
     "end_time": "2020-09-30T08:39:30.821163Z",
     "start_time": "2020-09-30T08:39:30.811156Z"
    }
   },
   "outputs": [
    {
     "data": {
      "text/plain": [
       "date\n",
       "2014-11-18    1.416514\n",
       "2014-11-19    1.443983\n",
       "2014-11-20    1.396761\n",
       "2014-11-21    1.337079\n",
       "2014-11-22    1.389583\n",
       "2014-11-23    1.346311\n",
       "2014-11-24    1.365462\n",
       "2014-11-25    1.356164\n",
       "2014-11-26    1.450098\n",
       "2014-11-27    1.393053\n",
       "2014-11-28    1.265979\n",
       "2014-11-29    1.382096\n",
       "2014-11-30    1.411647\n",
       "2014-12-01    1.439338\n",
       "2014-12-02    1.348968\n",
       "2014-12-03    1.354783\n",
       "2014-12-04    1.401070\n",
       "2014-12-05    1.355513\n",
       "2014-12-06    1.415984\n",
       "2014-12-07    1.349794\n",
       "2014-12-08    1.356190\n",
       "2014-12-09    1.377119\n",
       "2014-12-10    1.345339\n",
       "2014-12-11    1.353066\n",
       "2014-12-12    1.721679\n",
       "2014-12-13    1.354086\n",
       "2014-12-14    1.418000\n",
       "2014-12-15    1.318841\n",
       "2014-12-16    1.355072\n",
       "2014-12-17    1.349146\n",
       "2014-12-18    1.364706\n",
       "Name: total, dtype: float64"
      ]
     },
     "execution_count": 89,
     "metadata": {},
     "output_type": "execute_result"
    }
   ],
   "source": [
    "user_buy_all1.des"
   ]
  },
  {
   "cell_type": "code",
   "execution_count": null,
   "metadata": {},
   "outputs": [],
   "source": []
  },
  {
   "cell_type": "markdown",
   "metadata": {},
   "source": [
    "### 人均消费次数分析"
   ]
  },
  {
   "cell_type": "code",
   "execution_count": 52,
   "metadata": {
    "ExecuteTime": {
     "end_time": "2020-09-30T08:28:14.874766Z",
     "start_time": "2020-09-30T08:28:14.862759Z"
    }
   },
   "outputs": [
    {
     "data": {
      "text/plain": [
       "date\n",
       "2014-11-18    1.416514\n",
       "2014-11-19    1.443983\n",
       "2014-11-20    1.396761\n",
       "2014-11-21    1.337079\n",
       "2014-11-22    1.389583\n",
       "2014-11-23    1.346311\n",
       "2014-11-24    1.365462\n",
       "2014-11-25    1.356164\n",
       "2014-11-26    1.450098\n",
       "2014-11-27    1.393053\n",
       "2014-11-28    1.265979\n",
       "2014-11-29    1.382096\n",
       "2014-11-30    1.411647\n",
       "2014-12-01    1.439338\n",
       "2014-12-02    1.348968\n",
       "2014-12-03    1.354783\n",
       "2014-12-04    1.401070\n",
       "2014-12-05    1.355513\n",
       "2014-12-06    1.415984\n",
       "2014-12-07    1.349794\n",
       "2014-12-08    1.356190\n",
       "2014-12-09    1.377119\n",
       "2014-12-10    1.345339\n",
       "2014-12-11    1.353066\n",
       "2014-12-12    1.721679\n",
       "2014-12-13    1.354086\n",
       "2014-12-14    1.418000\n",
       "2014-12-15    1.318841\n",
       "2014-12-16    1.355072\n",
       "2014-12-17    1.349146\n",
       "2014-12-18    1.364706\n",
       "Name: total, dtype: float64"
      ]
     },
     "execution_count": 52,
     "metadata": {},
     "output_type": "execute_result"
    }
   ],
   "source": [
    "user_buy_all1#每天的人均消费次数"
   ]
  },
  {
   "cell_type": "code",
   "execution_count": 90,
   "metadata": {
    "ExecuteTime": {
     "end_time": "2020-09-30T08:51:54.055168Z",
     "start_time": "2020-09-30T08:51:54.041717Z"
    }
   },
   "outputs": [
    {
     "data": {
      "text/plain": [
       "1.3849491586697933"
      ]
     },
     "execution_count": 90,
     "metadata": {},
     "output_type": "execute_result"
    }
   ],
   "source": [
    "user_buy_all1.mean()"
   ]
  },
  {
   "cell_type": "code",
   "execution_count": 53,
   "metadata": {
    "ExecuteTime": {
     "end_time": "2020-09-30T08:28:15.507216Z",
     "start_time": "2020-09-30T08:28:14.879770Z"
    }
   },
   "outputs": [
    {
     "data": {
      "image/png": "[encoded data removed]",
      "text/plain": [
       "<Figure size 432x288 with 1 Axes>"
      ]
     },
     "metadata": {
      "needs_background": "light"
     },
     "output_type": "display_data"
    }
   ],
   "source": [
    "user_buy_all1.plot(kind = 'line')\n",
    "plt.xticks(rotation=45)\n",
    "plt.show()"
   ]
  },
  {
   "cell_type": "code",
   "execution_count": 54,
   "metadata": {
    "ExecuteTime": {
     "end_time": "2020-09-30T08:28:15.536237Z",
     "start_time": "2020-09-30T08:28:15.512218Z"
    }
   },
   "outputs": [],
   "source": [
    "#日ARPU情况平均每用户收入可通过总收入除以AU计算得到，可以衡量产品的盈利能力和发展能力，用活跃用户数平均消费次数等于用户总次数除以活跃用户数\n",
    "user_data['operation'] = 1#为了计数求用户的访问次数\n",
    "user_buy_all2 = user_data.groupby(['date','user_id','behavior_type'])['operation']"
   ]
  },
  {
   "cell_type": "code",
   "execution_count": 55,
   "metadata": {
    "ExecuteTime": {
     "end_time": "2020-09-30T08:28:17.833045Z",
     "start_time": "2020-09-30T08:28:15.540240Z"
    }
   },
   "outputs": [],
   "source": [
    "user_buy_all2  = user_buy_all2.count().reset_index().rename(columns = {'operation':'total'})"
   ]
  },
  {
   "cell_type": "code",
   "execution_count": 56,
   "metadata": {
    "ExecuteTime": {
     "end_time": "2020-09-30T08:28:17.858438Z",
     "start_time": "2020-09-30T08:28:17.833045Z"
    }
   },
   "outputs": [
    {
     "data": {
      "text/html": [
       "<div>\n",
       "<style scoped>\n",
       "    .dataframe tbody tr th:only-of-type {\n",
       "        vertical-align: middle;\n",
       "    }\n",
       "\n",
       "    .dataframe tbody tr th {\n",
       "        vertical-align: top;\n",
       "    }\n",
       "\n",
       "    .dataframe thead th {\n",
       "        text-align: right;\n",
       "    }\n",
       "</style>\n",
       "<table border=\"1\" class=\"dataframe\">\n",
       "  <thead>\n",
       "    <tr style=\"text-align: right;\">\n",
       "      <th></th>\n",
       "      <th>date</th>\n",
       "      <th>user_id</th>\n",
       "      <th>behavior_type</th>\n",
       "      <th>total</th>\n",
       "    </tr>\n",
       "  </thead>\n",
       "  <tbody>\n",
       "    <tr>\n",
       "      <th>0</th>\n",
       "      <td>2014-11-18</td>\n",
       "      <td>100001878</td>\n",
       "      <td>1</td>\n",
       "      <td>23</td>\n",
       "    </tr>\n",
       "    <tr>\n",
       "      <th>1</th>\n",
       "      <td>2014-11-18</td>\n",
       "      <td>100001878</td>\n",
       "      <td>4</td>\n",
       "      <td>1</td>\n",
       "    </tr>\n",
       "    <tr>\n",
       "      <th>2</th>\n",
       "      <td>2014-11-18</td>\n",
       "      <td>100014060</td>\n",
       "      <td>1</td>\n",
       "      <td>3</td>\n",
       "    </tr>\n",
       "    <tr>\n",
       "      <th>3</th>\n",
       "      <td>2014-11-18</td>\n",
       "      <td>100014060</td>\n",
       "      <td>3</td>\n",
       "      <td>1</td>\n",
       "    </tr>\n",
       "    <tr>\n",
       "      <th>4</th>\n",
       "      <td>2014-11-18</td>\n",
       "      <td>100014060</td>\n",
       "      <td>4</td>\n",
       "      <td>1</td>\n",
       "    </tr>\n",
       "  </tbody>\n",
       "</table>\n",
       "</div>"
      ],
      "text/plain": [
       "         date    user_id behavior_type  total\n",
       "0  2014-11-18  100001878             1     23\n",
       "1  2014-11-18  100001878             4      1\n",
       "2  2014-11-18  100014060             1      3\n",
       "3  2014-11-18  100014060             3      1\n",
       "4  2014-11-18  100014060             4      1"
      ]
     },
     "execution_count": 56,
     "metadata": {},
     "output_type": "execute_result"
    }
   ],
   "source": [
    "user_buy_all2.head()"
   ]
  },
  {
   "cell_type": "code",
   "execution_count": 92,
   "metadata": {
    "ExecuteTime": {
     "end_time": "2020-09-30T08:55:33.742370Z",
     "start_time": "2020-09-30T08:55:33.386550Z"
    }
   },
   "outputs": [
    {
     "data": {
      "text/plain": [
       "date\n",
       "2014-11-18    0.137171\n",
       "2014-11-19    0.122427\n",
       "2014-11-20    0.122558\n",
       "2014-11-21    0.107907\n",
       "2014-11-22    0.121693\n",
       "2014-11-23    0.115162\n",
       "2014-11-24    0.117769\n",
       "2014-11-25    0.123485\n",
       "2014-11-26    0.132015\n",
       "2014-11-27    0.135467\n",
       "2014-11-28    0.112126\n",
       "2014-11-29    0.114695\n",
       "2014-11-30    0.122795\n",
       "2014-12-01    0.134098\n",
       "2014-12-02    0.123667\n",
       "2014-12-03    0.131967\n",
       "2014-12-04    0.134912\n",
       "2014-12-05    0.124672\n",
       "2014-12-06    0.120320\n",
       "2014-12-07    0.114067\n",
       "2014-12-08    0.122274\n",
       "2014-12-09    0.110169\n",
       "2014-12-10    0.106992\n",
       "2014-12-11    0.102041\n",
       "2014-12-12    0.417690\n",
       "2014-12-13    0.115079\n",
       "2014-12-14    0.118860\n",
       "2014-12-15    0.119462\n",
       "2014-12-16    0.123944\n",
       "2014-12-17    0.119798\n",
       "2014-12-18    0.119383\n",
       "dtype: float64"
      ]
     },
     "execution_count": 92,
     "metadata": {},
     "output_type": "execute_result"
    }
   ],
   "source": [
    "user_buy_all2.groupby('date').apply(lambda x : x[x['behavior_type'] == '4']['total'].sum()/len(x.user_id.unique()))"
   ]
  },
  {
   "cell_type": "code",
   "execution_count": 57,
   "metadata": {
    "ExecuteTime": {
     "end_time": "2020-09-30T08:28:19.559483Z",
     "start_time": "2020-09-30T08:28:17.865441Z"
    },
    "scrolled": true
   },
   "outputs": [
    {
     "data": {
      "image/png": "[encoded data removed]",
      "text/plain": [
       "<Figure size 432x288 with 1 Axes>"
      ]
     },
     "metadata": {
      "needs_background": "light"
     },
     "output_type": "display_data"
    }
   ],
   "source": [
    "user_buy_all2.groupby('date').apply(lambda x : x[x['behavior_type'] == '4']['total'].sum()/len(x.user_id.unique())).plot()\n",
    "plt.xticks(rotation=45)\n",
    "plt.show()"
   ]
  },
  {
   "cell_type": "markdown",
   "metadata": {},
   "source": [
    "### 付费率分析"
   ]
  },
  {
   "cell_type": "code",
   "execution_count": 58,
   "metadata": {
    "ExecuteTime": {
     "end_time": "2020-09-30T08:28:19.870720Z",
     "start_time": "2020-09-30T08:28:19.564485Z"
    }
   },
   "outputs": [],
   "source": [
    "#付费率：消费用户人数/活跃用户人数\n",
    "df = user_buy_all2.groupby('date').apply(lambda x : x[x['behavior_type'] == '4']['total'].count()/len(x.user_id.unique()))"
   ]
  },
  {
   "cell_type": "code",
   "execution_count": 94,
   "metadata": {
    "ExecuteTime": {
     "end_time": "2020-09-30T08:58:34.253489Z",
     "start_time": "2020-09-30T08:58:34.245483Z"
    }
   },
   "outputs": [
    {
     "data": {
      "text/plain": [
       "0.09297249239359678"
      ]
     },
     "execution_count": 94,
     "metadata": {},
     "output_type": "execute_result"
    }
   ],
   "source": [
    "df.mean()"
   ]
  },
  {
   "cell_type": "code",
   "execution_count": 59,
   "metadata": {
    "ExecuteTime": {
     "end_time": "2020-09-30T08:28:20.450001Z",
     "start_time": "2020-09-30T08:28:19.875707Z"
    }
   },
   "outputs": [
    {
     "data": {
      "image/png": "[encoded data removed]",
      "text/plain": [
       "<Figure size 432x288 with 1 Axes>"
      ]
     },
     "metadata": {
      "needs_background": "light"
     },
     "output_type": "display_data"
    }
   ],
   "source": [
    "df.plot()\n",
    "plt.xticks(rotation=45)\n",
    "\n",
    "plt.title('付费率')\n",
    "plt.show()"
   ]
  },
  {
   "cell_type": "code",
   "execution_count": 60,
   "metadata": {
    "ExecuteTime": {
     "end_time": "2020-09-30T08:28:21.124114Z",
     "start_time": "2020-09-30T08:28:20.455002Z"
    }
   },
   "outputs": [],
   "source": [
    "user_buy_all3 = user_data[user_data['behavior_type'] == '4'].groupby(['user_id','date','hour'])['operation'].sum()"
   ]
  },
  {
   "cell_type": "code",
   "execution_count": 61,
   "metadata": {
    "ExecuteTime": {
     "end_time": "2020-09-30T08:28:22.178017Z",
     "start_time": "2020-09-30T08:28:21.124114Z"
    }
   },
   "outputs": [
    {
     "data": {
      "image/png": "[encoded data removed]",
      "text/plain": [
       "<Figure size 432x288 with 1 Axes>"
      ]
     },
     "metadata": {
      "needs_background": "light"
     },
     "output_type": "display_data"
    }
   ],
   "source": [
    "sns.distplot(user_buy_all3)\n",
    "plt.show()"
   ]
  },
  {
   "cell_type": "markdown",
   "metadata": {},
   "source": [
    "### 复购率分析"
   ]
  },
  {
   "cell_type": "code",
   "execution_count": 62,
   "metadata": {
    "ExecuteTime": {
     "end_time": "2020-09-30T08:28:22.557489Z",
     "start_time": "2020-09-30T08:28:22.183020Z"
    }
   },
   "outputs": [],
   "source": [
    "#复购率分析\n",
    "data_rebuy = user_data[user_data['behavior_type'] == '4'].groupby('user_id')['date']"
   ]
  },
  {
   "cell_type": "code",
   "execution_count": 63,
   "metadata": {
    "ExecuteTime": {
     "end_time": "2020-09-30T08:28:25.610207Z",
     "start_time": "2020-09-30T08:28:22.560552Z"
    }
   },
   "outputs": [],
   "source": [
    "data_rebuy = data_rebuy.apply(lambda x : len(x.unique()))"
   ]
  },
  {
   "cell_type": "code",
   "execution_count": 64,
   "metadata": {
    "ExecuteTime": {
     "end_time": "2020-09-30T08:28:25.649345Z",
     "start_time": "2020-09-30T08:28:25.610207Z"
    }
   },
   "outputs": [
    {
     "data": {
      "text/plain": [
       "0.6190619816015684"
      ]
     },
     "execution_count": 64,
     "metadata": {},
     "output_type": "execute_result"
    }
   ],
   "source": [
    "#复购率 = 又复购行为的用户数/整个总数（某一天）\n",
    "data_rebuy[data_rebuy >= 2].count()/data_rebuy.count()"
   ]
  },
  {
   "cell_type": "markdown",
   "metadata": {},
   "source": [
    "复购率为62.91%左右"
   ]
  },
  {
   "cell_type": "code",
   "execution_count": 65,
   "metadata": {
    "ExecuteTime": {
     "end_time": "2020-09-30T08:28:40.144429Z",
     "start_time": "2020-09-30T08:28:25.655350Z"
    }
   },
   "outputs": [],
   "source": [
    "user_data['date1'] = pd.to_datetime(user_data['date'],errors='coerce')\n",
    "data_day_rebuy = user_data[user_data.behavior_type == '4'].groupby('user_id').date1.apply(lambda x : x.sort_values().diff(1).dropna())"
   ]
  },
  {
   "cell_type": "code",
   "execution_count": 66,
   "metadata": {
    "ExecuteTime": {
     "end_time": "2020-09-30T08:28:40.517572Z",
     "start_time": "2020-09-30T08:28:40.144429Z"
    }
   },
   "outputs": [
    {
     "data": {
      "text/plain": [
       "user_id            \n",
       "100001878  3947784      6\n",
       "           9233732      0\n",
       "           3198967      2\n",
       "           7415635      8\n",
       "           901862       4\n",
       "           3948408      7\n",
       "100012968  6781096      2\n",
       "           4524105      5\n",
       "100014060  1196129      2\n",
       "           6324440      7\n",
       "           5562308     11\n",
       "           3909748      8\n",
       "100024529  3072390      0\n",
       "           673618       0\n",
       "           7953619      7\n",
       "           4182326      5\n",
       "           9587380     16\n",
       "100027681  7299272      0\n",
       "           2993009      1\n",
       "           8686990      1\n",
       "           5141929      1\n",
       "           2992889      4\n",
       "           2992697      4\n",
       "           12057386     9\n",
       "10004287   3551210      0\n",
       "           3967006      3\n",
       "           2168009      0\n",
       "100067745  3722703      8\n",
       "           5684212      1\n",
       "           5684485      4\n",
       "                       ..\n",
       "99796276   764959       3\n",
       "           10472118     1\n",
       "           2540444      1\n",
       "           8949348      1\n",
       "           764882       0\n",
       "           765071       0\n",
       "           5480793      0\n",
       "           3982547      0\n",
       "99877834   10176045    22\n",
       "99900937   9231234      4\n",
       "           12127645     3\n",
       "           3103396      0\n",
       "           3103172      1\n",
       "           8137346      4\n",
       "           8137276      1\n",
       "           9231202      0\n",
       "           8137325     12\n",
       "           5774076      4\n",
       "99926967   5742685      7\n",
       "           1574694      7\n",
       "           5742692      2\n",
       "99963140   1084168      4\n",
       "           1364598      1\n",
       "99968428   8671750      4\n",
       "           3641695      0\n",
       "           6890394      0\n",
       "           2165610      0\n",
       "           11200957     1\n",
       "           3641743     12\n",
       "99989881   2795473      9\n",
       "Name: date1, Length: 17318, dtype: int64"
      ]
     },
     "execution_count": 66,
     "metadata": {},
     "output_type": "execute_result"
    }
   ],
   "source": [
    "data_day_rebuy.map(lambda x :x.days)"
   ]
  },
  {
   "cell_type": "code",
   "execution_count": 67,
   "metadata": {
    "ExecuteTime": {
     "end_time": "2020-09-30T08:28:40.527583Z",
     "start_time": "2020-09-30T08:28:40.522576Z"
    }
   },
   "outputs": [],
   "source": [
    "# pd.to_datetime?"
   ]
  },
  {
   "cell_type": "markdown",
   "metadata": {},
   "source": [
    "### 漏斗流失分析"
   ]
  },
  {
   "cell_type": "code",
   "execution_count": 68,
   "metadata": {
    "ExecuteTime": {
     "end_time": "2020-09-30T08:28:40.657320Z",
     "start_time": "2020-09-30T08:28:40.558600Z"
    }
   },
   "outputs": [],
   "source": [
    "# 漏斗流失分析"
   ]
  },
  {
   "cell_type": "code",
   "execution_count": 69,
   "metadata": {
    "ExecuteTime": {
     "end_time": "2020-09-30T08:28:41.020830Z",
     "start_time": "2020-09-30T08:28:40.668331Z"
    }
   },
   "outputs": [],
   "source": [
    "data_user_count  = user_data.groupby('behavior_type').size()"
   ]
  },
  {
   "cell_type": "code",
   "execution_count": 70,
   "metadata": {
    "ExecuteTime": {
     "end_time": "2020-09-30T08:28:41.035842Z",
     "start_time": "2020-09-30T08:28:41.024834Z"
    }
   },
   "outputs": [
    {
     "data": {
      "text/plain": [
       "behavior_type\n",
       "1    2309909\n",
       "2      48834\n",
       "3      68689\n",
       "4      23949\n",
       "dtype: int64"
      ]
     },
     "execution_count": 70,
     "metadata": {},
     "output_type": "execute_result"
    }
   ],
   "source": [
    "data_user_count"
   ]
  },
  {
   "cell_type": "code",
   "execution_count": 71,
   "metadata": {
    "ExecuteTime": {
     "end_time": "2020-09-30T08:28:41.496476Z",
     "start_time": "2020-09-30T08:28:41.040847Z"
    }
   },
   "outputs": [],
   "source": [
    "pv_all = user_data['user_id'].count()"
   ]
  },
  {
   "cell_type": "code",
   "execution_count": 95,
   "metadata": {
    "ExecuteTime": {
     "end_time": "2020-09-30T09:00:48.589393Z",
     "start_time": "2020-09-30T09:00:48.581389Z"
    }
   },
   "outputs": [
    {
     "data": {
      "text/plain": [
       "2451381"
      ]
     },
     "execution_count": 95,
     "metadata": {},
     "output_type": "execute_result"
    }
   ],
   "source": [
    "pv_all"
   ]
  },
  {
   "cell_type": "code",
   "execution_count": 72,
   "metadata": {
    "ExecuteTime": {
     "end_time": "2020-09-30T08:28:41.566029Z",
     "start_time": "2020-09-30T08:28:41.501482Z"
    }
   },
   "outputs": [
    {
     "data": {
      "text/plain": [
       "0.0577111432290615"
      ]
     },
     "execution_count": 72,
     "metadata": {},
     "output_type": "execute_result"
    }
   ],
   "source": [
    "(pv_all - data_user_count[0])/pv_all"
   ]
  },
  {
   "cell_type": "code",
   "execution_count": 73,
   "metadata": {
    "ExecuteTime": {
     "end_time": "2020-09-30T08:28:41.654590Z",
     "start_time": "2020-09-30T08:28:41.571030Z"
    }
   },
   "outputs": [
    {
     "data": {
      "text/plain": [
       "0.9702633307199547"
      ]
     },
     "execution_count": 73,
     "metadata": {},
     "output_type": "execute_result"
    }
   ],
   "source": [
    "(data_user_count[0] - data_user_count[2]) / data_user_count[0]"
   ]
  },
  {
   "cell_type": "code",
   "execution_count": 74,
   "metadata": {
    "ExecuteTime": {
     "end_time": "2020-09-30T08:28:41.731646Z",
     "start_time": "2020-09-30T08:28:41.659593Z"
    }
   },
   "outputs": [
    {
     "data": {
      "text/plain": [
       "0.28905647192418"
      ]
     },
     "execution_count": 74,
     "metadata": {},
     "output_type": "execute_result"
    }
   ],
   "source": [
    "#从加入购物车到收藏\n",
    "(data_user_count[2] - data_user_count[1]) / data_user_count[2]"
   ]
  },
  {
   "cell_type": "code",
   "execution_count": 75,
   "metadata": {
    "ExecuteTime": {
     "end_time": "2020-09-30T08:28:41.889258Z",
     "start_time": "2020-09-30T08:28:41.736148Z"
    }
   },
   "outputs": [
    {
     "data": {
      "text/plain": [
       "0.5095834869148544"
      ]
     },
     "execution_count": 75,
     "metadata": {},
     "output_type": "execute_result"
    }
   ],
   "source": [
    "#从收藏到购买的流失率\n",
    "(data_user_count[1] - data_user_count[3]) / data_user_count[1]"
   ]
  },
  {
   "cell_type": "code",
   "execution_count": 76,
   "metadata": {
    "ExecuteTime": {
     "end_time": "2020-09-30T08:28:41.967814Z",
     "start_time": "2020-09-30T08:28:41.894262Z"
    }
   },
   "outputs": [],
   "source": [
    "#需要重视每个环节的流失率"
   ]
  },
  {
   "cell_type": "markdown",
   "metadata": {},
   "source": [
    "## 分析结论\n"
   ]
  },
  {
   "cell_type": "markdown",
   "metadata": {},
   "source": [
    "1. 根据pv，uv在一个时间段的变化趋势图可知日访问量和访问用户数成正相关，相关性较强，都在双十二当天达到峰值；\n",
    "2. pv和uv在凌晨0-5点都呈现下降趋势，在晚间8点到10点用户访问达到高峰；\n",
    "3. 不同行为每小时访问量：点击的访问量最多，加购物车量超过点击收藏量，购买的量最少；\n",
    "4. 每日人均消费次数：人均消费1.4次，其中在双十二当天最多；\n",
    "5. 每日的复购率在62.91%左右，平均付费率为9.29%左右；\n",
    "6. 用户从点击到加购流失率为97%左右，从加购到收藏流失率为28%左右，从收藏到购买的流失率为51%左右；\n",
    "7. 需要重视每个环节的流失率。"
   ]
  }
 ],
 "metadata": {
  "kernelspec": {
   "display_name": "Python 3",
   "language": "python",
   "name": "python3"
  },
  "language_info": {
   "codemirror_mode": {
    "name": "ipython",
    "version": 3
   },
   "file_extension": ".py",
   "mimetype": "text/x-python",
   "name": "python",
   "nbconvert_exporter": "python",
   "pygments_lexer": "ipython3",
   "version": "3.7.3"
  },
  "toc": {
   "base_numbering": 1,
   "nav_menu": {},
   "number_sections": true,
   "sideBar": true,
   "skip_h1_title": false,
   "title_cell": "Table of Contents",
   "title_sidebar": "Contents",
   "toc_cell": true,
   "toc_position": {
    "height": "calc(100% - 180px)",
    "left": "10px",
    "top": "150px",
    "width": "273.188px"
   },
   "toc_section_display": true,
   "toc_window_display": true
  },
  "varInspector": {
   "cols": {
    "lenName": 16,
    "lenType": 16,
    "lenVar": 40
   },
   "kernels_config": {
    "python": {
     "delete_cmd_postfix": "",
     "delete_cmd_prefix": "del ",
     "library": "var_list.py",
     "varRefreshCmd": "print(var_dic_list())"
    },
    "r": {
     "delete_cmd_postfix": ") ",
     "delete_cmd_prefix": "rm(",
     "library": "var_list.r",
     "varRefreshCmd": "cat(var_dic_list()) "
    }
   },
   "oldHeight": 465.98674,
   "position": {
    "height": "40px",
    "left": "1167.89px",
    "right": "20px",
    "top": "120px",
    "width": "250px"
   },
   "types_to_exclude": [
    "module",
    "function",
    "builtin_function_or_method",
    "instance",
    "_Feature"
   ],
   "varInspector_section_display": "none",
   "window_display": true
  }
 },
 "nbformat": 4,
 "nbformat_minor": 2
}
